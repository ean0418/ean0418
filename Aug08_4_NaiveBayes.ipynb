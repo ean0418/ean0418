{
  "nbformat": 4,
  "nbformat_minor": 0,
  "metadata": {
    "colab": {
      "provenance": [],
      "authorship_tag": "ABX9TyOlG1v7eKb8HQexJi/N1bon",
      "include_colab_link": true
    },
    "kernelspec": {
      "name": "python3",
      "display_name": "Python 3"
    },
    "language_info": {
      "name": "python"
    }
  },
  "cells": [
    {
      "cell_type": "markdown",
      "metadata": {
        "id": "view-in-github",
        "colab_type": "text"
      },
      "source": [
        "<a href=\"https://colab.research.google.com/github/ean0418/ean0418/blob/main/Aug08_4_NaiveBayes.ipynb\" target=\"_parent\"><img src=\"https://colab.research.google.com/assets/colab-badge.svg\" alt=\"Open In Colab\"/></a>"
      ]
    },
    {
      "cell_type": "markdown",
      "source": [
        "# 나이브베이즈 분류 (Naive Bayes Classification)\n",
        "\n",
        "지도학습 중 분류 기법의 하나\n",
        "\n",
        "대표적으로 사용되는 곳 : 스팸메일 구분하는 필터, 텍스트 분류, 추천 스스템, 감정 분석\n",
        "\n",
        "머신러닝 - 지도학습 :\n",
        "\n",
        "Feature, Label 파악이 중요\n",
        "\n",
        "Label : 우리가 원하는 분류 ex) 치마, 반바지, 긴바지, 모자\n",
        "\n",
        "Feature : 디자인, 모양, 색, 질감, 원단, ...\n"
      ],
      "metadata": {
        "id": "gRrR9KahZs9-"
      }
    },
    {
      "cell_type": "code",
      "execution_count": null,
      "metadata": {
        "id": "J-JIXkilZlX-"
      },
      "outputs": [],
      "source": [
        "# 날씨에 따라서 긴바지를 입을지 반바지를 입을지\n",
        "\n",
        "# 'sunny', 'overcast', 'snow'\n",
        "weather = ['sunny', 'sunny', 'overcast', 'snow', 'overcast', 'snow', 'snow',\n",
        "           'sunny', 'overcast', 'overcast','snow','sunny','snow','sunny']\n",
        "\n",
        "# 'mild', 'cool', 'cold'\n",
        "temp = ['mild', 'cool', 'cold', 'cold', 'cold', 'cool', 'mild',\n",
        "        'mild', 'cool', 'cold', 'cool', 'mild', 'mild', 'cool']\n",
        "\n",
        "# 긴바지 : long, 반바지 : short\n",
        "pants = ['short', 'short', 'long', 'long', 'long', 'short', 'long',\n",
        "         'short', 'short', 'long', 'short', 'long', 'long', 'short']\n",
        "\n"
      ]
    },
    {
      "cell_type": "markdown",
      "source": [
        "컴퓨터가 이해하는 것 : 0, 1\n",
        "\n",
        "어휘추출(Feature Encoding) - String을 int로"
      ],
      "metadata": {
        "id": "CVWPDavpcBGq"
      }
    },
    {
      "cell_type": "code",
      "source": [
        "from sklearn import preprocessing\n",
        "\n",
        "# LabelEncoder() : 문자를 0부터 시작하는 정수형 숫자로 바꿔주는 기능\n",
        "le = preprocessing.LabelEncoder()\n",
        "\n",
        "# fit_transform() : train dataset에서만 사용\n",
        "#   fit : 평균, 표준편차를 계산\n",
        "#   transform : 정규화작업\n",
        "\n",
        "weather_encoder = le.fit_transform(weather)\n",
        "print(weather_encoded)\n",
        "# 'sunny' : 2 / 'overcast' : 0 / 'snow' : 1"
      ],
      "metadata": {
        "colab": {
          "base_uri": "https://localhost:8080/"
        },
        "id": "i1iWKMk3b671",
        "outputId": "315c8883-7731-4c79-98b6-98ef0bd2fa02"
      },
      "execution_count": null,
      "outputs": [
        {
          "output_type": "stream",
          "name": "stdout",
          "text": [
            "[2 2 0 1 0 1 1 2 0 0 1 2 1 2]\n"
          ]
        }
      ]
    },
    {
      "cell_type": "code",
      "source": [
        "temp_encoder = le.fit_transform(temp)\n",
        "print(temp_encoder)\n",
        "# 'mild' : 2 / 'cool' : 1 / 'cold' : 0"
      ],
      "metadata": {
        "colab": {
          "base_uri": "https://localhost:8080/"
        },
        "id": "4T_0u8cBdY81",
        "outputId": "a29ebbbd-146d-4b36-8099-74ad79421922"
      },
      "execution_count": null,
      "outputs": [
        {
          "output_type": "stream",
          "name": "stdout",
          "text": [
            "[2 1 0 0 0 1 2 2 1 0 1 2 2 1]\n"
          ]
        }
      ]
    },
    {
      "cell_type": "markdown",
      "source": [],
      "metadata": {
        "id": "JdkWtyPPevoc"
      }
    },
    {
      "cell_type": "code",
      "source": [
        "label = le.fit_transform(pants)\n",
        "print(label)\n",
        "# 'short' : 1 / 'long' : 0"
      ],
      "metadata": {
        "colab": {
          "base_uri": "https://localhost:8080/"
        },
        "id": "ybulAmRodlZP",
        "outputId": "d352c434-a928-46fc-a7fc-3296a5305ce9"
      },
      "execution_count": null,
      "outputs": [
        {
          "output_type": "stream",
          "name": "stdout",
          "text": [
            "[1 1 0 0 0 1 0 1 1 0 1 0 0 1]\n"
          ]
        }
      ]
    },
    {
      "cell_type": "code",
      "source": [
        "# encoding된 weather와 temp를 결합\n",
        "\n",
        "features = zip(weather_encoder, temp_encoder)\n",
        "features = list(features)\n",
        "print(features)"
      ],
      "metadata": {
        "colab": {
          "base_uri": "https://localhost:8080/"
        },
        "id": "aA9BOlt6dseq",
        "outputId": "eca3430d-a295-46b4-d191-b3d59d9f50bf"
      },
      "execution_count": null,
      "outputs": [
        {
          "output_type": "stream",
          "name": "stdout",
          "text": [
            "[(2, 2), (2, 1), (0, 0), (1, 0), (0, 0), (1, 1), (1, 2), (2, 2), (0, 1), (0, 0), (1, 1), (2, 2), (1, 2), (2, 1)]\n"
          ]
        }
      ]
    },
    {
      "cell_type": "code",
      "source": [
        "# 모델 만들기 => 데이터들을 훈련 => 성능 평가\n",
        "from sklearn.naive_bayes import GaussianNB\n",
        "\n",
        "# Naiver Bayes : 각각의 특성을 개별적으로 취급해서 학습을 시키고 그 특성에서 클래스별 통계를 취합\n",
        "# GaissoanNB : 연속적으로 나오는 데이터가 있다면 적용\n",
        "# BernoulliNB : 이진(Binary) 데이터에 적용\n",
        "# MultinomialNB : 카운트 데이터에 적용\n",
        "\n",
        "# 모델 만들기\n",
        "model = GaussianNB()\n",
        "\n",
        "# 데이터 훈련\n",
        "model.fit(features, label)\n",
        "\n",
        "# 성능 평가\n",
        "predict = model.predict([[1, 0]]) # 눈이 오고 추운날에는 무슨 바지를 입어야 할까?\n",
        "print(predict) # 'long' 긴 바지!\n",
        "\n"
      ],
      "metadata": {
        "colab": {
          "base_uri": "https://localhost:8080/"
        },
        "id": "78bxho1_eI7J",
        "outputId": "2e4bf420-cf53-4f80-8291-33abfc5b26e2"
      },
      "execution_count": null,
      "outputs": [
        {
          "output_type": "stream",
          "name": "stdout",
          "text": [
            "[0]\n"
          ]
        }
      ]
    },
    {
      "cell_type": "markdown",
      "source": [
        "# 장점 :\n",
        "1. data의 양이 클 때 도움\n",
        "2. 간단하고, 빠르고, 정확\n",
        "\n",
        "# 단점 :\n",
        "1. Feature간의 독립성이 필수 => 각 특성간에 상관관계가 서로 없어야 함!"
      ],
      "metadata": {
        "id": "NCMBmrAEgQEs"
      }
    },
    {
      "cell_type": "code",
      "source": [
        "from sklearn import datasets\n",
        "\n",
        "iris = datasets.load_iris()\n",
        "print(type(iris))\n",
        "\n",
        "# Bunch 클래스 : {'data' : [], 'target' : []}\n",
        "#   : 파이썬의 dict와 유사한 클래스, 데이터셋에 매칭되있는 데이터들은 bunch클래스\n",
        "\n",
        "print()\n",
        "print(iris.feature_names)\n",
        "# sepal length(cm), 'sepal width(cm)', 'petal length(cm)','petal width(cm)'\n",
        "# sepal : 꽃받침 / petal :꽃잎\n",
        "print()\n",
        "print(iris.target_names)\n",
        "# setosa, versicolor, virginica / 붓꽃의 종류"
      ],
      "metadata": {
        "colab": {
          "base_uri": "https://localhost:8080/"
        },
        "id": "z_pS9sLYf18j",
        "outputId": "879c1f7f-e8f8-4646-d85d-4de551e1db07"
      },
      "execution_count": null,
      "outputs": [
        {
          "output_type": "stream",
          "name": "stdout",
          "text": [
            "<class 'sklearn.utils._bunch.Bunch'>\n",
            "\n",
            "['sepal length (cm)', 'sepal width (cm)', 'petal length (cm)', 'petal width (cm)']\n",
            "\n",
            "['setosa' 'versicolor' 'virginica']\n"
          ]
        }
      ]
    },
    {
      "cell_type": "code",
      "source": [
        "from sklearn.model_selection import train_test_split\n",
        "\n",
        "X = iris.data\n",
        "y = iris.target\n",
        "\n",
        "X_train, X_test, y_train, y_test = train_test_split(X, y, test_size = 0.2, random_state=104)\n"
      ],
      "metadata": {
        "id": "8z5OUvXBk_SG"
      },
      "execution_count": null,
      "outputs": []
    },
    {
      "cell_type": "code",
      "source": [
        "from sklearn.naive_bayes import GaussianNB\n",
        "gs = GaussianNB()"
      ],
      "metadata": {
        "id": "jmOI0DbRm2gt"
      },
      "execution_count": null,
      "outputs": []
    },
    {
      "cell_type": "code",
      "source": [
        "# 예측\n",
        "predict = gs.fit(X_train, y_train).predict(X_test)\n",
        "print(predict)\n",
        "print(y_test)"
      ],
      "metadata": {
        "colab": {
          "base_uri": "https://localhost:8080/"
        },
        "id": "b2agKP5jm-KE",
        "outputId": "584f7aa1-918b-4d4d-b125-98d6b8bdbf55"
      },
      "execution_count": null,
      "outputs": [
        {
          "output_type": "stream",
          "name": "stdout",
          "text": [
            "[0 0 0 1 1 1 1 2 1 0 0 1 1 2 1 0 1 1 2 0 1 0 2 0 2 1 0 0 0 1]\n",
            "[0 0 0 1 2 1 1 2 1 0 0 1 1 2 1 0 1 1 2 0 1 0 2 0 2 1 0 0 0 1]\n"
          ]
        }
      ]
    },
    {
      "cell_type": "code",
      "source": [
        "print(X_test.shape[0])\n",
        "# 실제 테스트용 정답과 예측이 같지 않은 부분의 수의 합계를 내서 출력\n",
        "print((y_test != predict).sum())"
      ],
      "metadata": {
        "colab": {
          "base_uri": "https://localhost:8080/"
        },
        "id": "0lW8gX9hnDK9",
        "outputId": "9fdfd00c-9e2c-4d29-bbb4-61916922dd4d"
      },
      "execution_count": null,
      "outputs": [
        {
          "output_type": "stream",
          "name": "stdout",
          "text": [
            "30\n",
            "1\n"
          ]
        }
      ]
    },
    {
      "cell_type": "code",
      "source": [],
      "metadata": {
        "id": "5iM8CSHlnQ-F"
      },
      "execution_count": null,
      "outputs": []
    }
  ]
}