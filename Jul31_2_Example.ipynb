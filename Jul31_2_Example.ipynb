{
  "nbformat": 4,
  "nbformat_minor": 0,
  "metadata": {
    "colab": {
      "provenance": [],
      "authorship_tag": "ABX9TyNklnMy14iHRo7YT5L0KAr0",
      "include_colab_link": true
    },
    "kernelspec": {
      "name": "python3",
      "display_name": "Python 3"
    },
    "language_info": {
      "name": "python"
    }
  },
  "cells": [
    {
      "cell_type": "markdown",
      "metadata": {
        "id": "view-in-github",
        "colab_type": "text"
      },
      "source": [
        "<a href=\"https://colab.research.google.com/github/ean0418/ean0418/blob/main/Jul31_2_Example.ipynb\" target=\"_parent\"><img src=\"https://colab.research.google.com/assets/colab-badge.svg\" alt=\"Open In Colab\"/></a>"
      ]
    },
    {
      "cell_type": "code",
      "execution_count": 1,
      "metadata": {
        "id": "iz6uTw84UoC8"
      },
      "outputs": [],
      "source": [
        "import numpy as np\n",
        "\n",
        "# data 폴더 안에 있는 births.txt파일을 load하기\n",
        "birth = np.loadtxt('data/births.txt', delimiter=',', dtype=np.int64)"
      ]
    },
    {
      "cell_type": "code",
      "source": [
        "print(birth.shape)\n",
        "print(type(birth))\n"
      ],
      "metadata": {
        "colab": {
          "base_uri": "https://localhost:8080/"
        },
        "id": "uTthALdtV9mM",
        "outputId": "f65d3df5-7980-4b90-de0c-ae1d5fc9bc80"
      },
      "execution_count": 2,
      "outputs": [
        {
          "output_type": "stream",
          "name": "stdout",
          "text": [
            "(132, 3)\n",
            "<class 'numpy.ndarray'>\n"
          ]
        }
      ]
    },
    {
      "cell_type": "code",
      "source": [
        "birth.astype(int)\n",
        "\n",
        "# 결과 : 연도, 남자아이 수, 여자아이 수로 구성\n"
      ],
      "metadata": {
        "colab": {
          "base_uri": "https://localhost:8080/"
        },
        "id": "Bi-xtvJSWDBq",
        "outputId": "3248a505-1ef9-4d0e-acc7-21cb383c14d3"
      },
      "execution_count": 4,
      "outputs": [
        {
          "output_type": "execute_result",
          "data": {
            "text/plain": [
              "array([[   1880,   90993,  110491],\n",
              "       [   1881,   91954,  100745],\n",
              "       [   1882,  107850,  113688],\n",
              "       [   1883,  112321,  104629],\n",
              "       [   1884,  129022,  114445],\n",
              "       [   1885,  133055,  107800],\n",
              "       [   1886,  144535,  110784],\n",
              "       [   1887,  145982,  101414],\n",
              "       [   1888,  178627,  120853],\n",
              "       [   1889,  178366,  110584],\n",
              "       [   1890,  190377,  111025],\n",
              "       [   1891,  185482,  101196],\n",
              "       [   1892,  212346,  122037],\n",
              "       [   1893,  212906,  112317],\n",
              "       [   1894,  222922,  115772],\n",
              "       [   1895,  233630,  117398],\n",
              "       [   1896,  237920,  119570],\n",
              "       [   1897,  234202,  112758],\n",
              "       [   1898,  258770,  122693],\n",
              "       [   1899,  233023,  106212],\n",
              "       [   1900,  299828,  150499],\n",
              "       [   1901,  239348,  106471],\n",
              "       [   1902,  264077,  122659],\n",
              "       [   1903,  261973,  119234],\n",
              "       [   1904,  275371,  128125],\n",
              "       [   1905,  291629,  132319],\n",
              "       [   1906,  295303,  133159],\n",
              "       [   1907,  318566,  146833],\n",
              "       [   1908,  334313,  154344],\n",
              "       [   1909,  347228,  163999],\n",
              "       [   1910,  396501,  194218],\n",
              "       [   1911,  418299,  225968],\n",
              "       [   1912,  558103,  429945],\n",
              "       [   1913,  624518,  512557],\n",
              "       [   1914,  761548,  654762],\n",
              "       [   1915,  983874,  848603],\n",
              "       [   1916, 1044323,  890099],\n",
              "       [   1917, 1081280,  925511],\n",
              "       [   1918, 1157647, 1013537],\n",
              "       [   1919, 1130145,  980149],\n",
              "       [   1920, 1198283, 1064463],\n",
              "       [   1921, 1232999, 1101457],\n",
              "       [   1922, 1200919, 1088287],\n",
              "       [   1923, 1206330, 1096168],\n",
              "       [   1924, 1248876, 1132751],\n",
              "       [   1925, 1217352, 1115958],\n",
              "       [   1926, 1185304, 1110505],\n",
              "       [   1927, 1192330, 1126717],\n",
              "       [   1928, 1153117, 1107518],\n",
              "       [   1929, 1116422, 1075313],\n",
              "       [   1930, 1125761, 1097176],\n",
              "       [   1931, 1064497, 1039127],\n",
              "       [   1932, 1066994, 1043808],\n",
              "       [   1933, 1007710,  991127],\n",
              "       [   1934, 1044039, 1032291],\n",
              "       [   1935, 1048428, 1040930],\n",
              "       [   1936, 1040202, 1036974],\n",
              "       [   1937, 1063872, 1066309],\n",
              "       [   1938, 1103277, 1108841],\n",
              "       [   1939, 1096518, 1106544],\n",
              "       [   1940, 1143325, 1158900],\n",
              "       [   1941, 1207919, 1227941],\n",
              "       [   1942, 1350545, 1380774],\n",
              "       [   1943, 1395082, 1426846],\n",
              "       [   1944, 1327104, 1362555],\n",
              "       [   1945, 1307028, 1345610],\n",
              "       [   1946, 1571184, 1623650],\n",
              "       [   1947, 1772644, 1829223],\n",
              "       [   1948, 1697814, 1754469],\n",
              "       [   1949, 1710825, 1773725],\n",
              "       [   1950, 1713180, 1790673],\n",
              "       [   1951, 1800042, 1881080],\n",
              "       [   1952, 1854698, 1944277],\n",
              "       [   1953, 1880326, 1969777],\n",
              "       [   1954, 1941682, 2037374],\n",
              "       [   1955, 1954664, 2057918],\n",
              "       [   1956, 2007512, 2113694],\n",
              "       [   1957, 2044160, 2155866],\n",
              "       [   1958, 2010884, 2120712],\n",
              "       [   1959, 2023044, 2133509],\n",
              "       [   1960, 2022093, 2132717],\n",
              "       [   1961, 2017316, 2122502],\n",
              "       [   1962, 1966548, 2068945],\n",
              "       [   1963, 1927217, 2031755],\n",
              "       [   1964, 1894594, 1993270],\n",
              "       [   1965, 1765001, 1861378],\n",
              "       [   1966, 1691868, 1783964],\n",
              "       [   1967, 1650764, 1744527],\n",
              "       [   1968, 1640103, 1738928],\n",
              "       [   1969, 1686947, 1789732],\n",
              "       [   1970, 1748147, 1859594],\n",
              "       [   1971, 1663475, 1769201],\n",
              "       [   1972, 1521185, 1622666],\n",
              "       [   1973, 1458139, 1559338],\n",
              "       [   1974, 1467413, 1573105],\n",
              "       [   1975, 1457699, 1562207],\n",
              "       [   1976, 1465096, 1569904],\n",
              "       [   1977, 1532997, 1643684],\n",
              "       [   1978, 1531658, 1642250],\n",
              "       [   1979, 1605051, 1721947],\n",
              "       [   1980, 1659933, 1783876],\n",
              "       [   1981, 1667465, 1790907],\n",
              "       [   1982, 1692678, 1813970],\n",
              "       [   1983, 1670061, 1791732],\n",
              "       [   1984, 1682973, 1803830],\n",
              "       [   1985, 1720036, 1847032],\n",
              "       [   1986, 1714664, 1840164],\n",
              "       [   1987, 1737891, 1865662],\n",
              "       [   1988, 1779839, 1912602],\n",
              "       [   1989, 1843105, 1999999],\n",
              "       [   1990, 1897709, 2052543],\n",
              "       [   1991, 1874434, 2019463],\n",
              "       [   1992, 1843304, 1996388],\n",
              "       [   1993, 1808379, 1960397],\n",
              "       [   1994, 1785074, 1931157],\n",
              "       [   1995, 1757927, 1902832],\n",
              "       [   1996, 1752249, 1893378],\n",
              "       [   1997, 1739806, 1884122],\n",
              "       [   1998, 1765915, 1910250],\n",
              "       [   1999, 1772632, 1918809],\n",
              "       [   2000, 1814601, 1962406],\n",
              "       [   2001, 1799049, 1941251],\n",
              "       [   2002, 1795206, 1939815],\n",
              "       [   2003, 1825359, 1973434],\n",
              "       [   2004, 1834145, 1982794],\n",
              "       [   2005, 1845379, 1994841],\n",
              "       [   2006, 1898463, 2052377],\n",
              "       [   2007, 1919408, 2072139],\n",
              "       [   2008, 1887234, 2036289],\n",
              "       [   2009, 1832925, 1979303],\n",
              "       [   2010, 1772738, 1913851],\n",
              "       [   2011, 1753500, 1893230]])"
            ]
          },
          "metadata": {},
          "execution_count": 4
        }
      ]
    },
    {
      "cell_type": "code",
      "source": [
        "import matplotlib.pyplot as plt"
      ],
      "metadata": {
        "id": "Ae43m0daWWwU"
      },
      "execution_count": 5,
      "outputs": []
    },
    {
      "cell_type": "code",
      "source": [
        "a = np.array([1, 2, 3, 4, 5])\n",
        "b = np.array([11, 12, 13, 14, 15])\n",
        "\n",
        "plt.plot(a, b, 'bo--')\n",
        "plt.bar(a,b)\n",
        "\n",
        "plt.title('Kor')\n",
        "plt.xlabel('Student_num')\n",
        "plt.ylabel('Score')\n",
        "\n",
        "plt.show()"
      ],
      "metadata": {
        "colab": {
          "base_uri": "https://localhost:8080/",
          "height": 472
        },
        "id": "cKlfPEY0Wgk5",
        "outputId": "ded0e448-d2de-4fae-9474-59115250e892"
      },
      "execution_count": 6,
      "outputs": [
        {
          "output_type": "display_data",
          "data": {
            "text/plain": [
              "<Figure size 640x480 with 1 Axes>"
            ],
            "image/png": "[encoded data removed]"
          },
          "metadata": {}
        }
      ]
    },
    {
      "cell_type": "code",
      "source": [
        "# 1. 남자아이, 여자아이 출생 수 평균을 구해주세요 (정수로 출력)\n",
        "boy = birth[:,1]\n",
        "girl = birth[:,2]\n",
        "\n",
        "print(np.mean(boy).astype(int))\n",
        "print(np.mean(girl).astype(int))"
      ],
      "metadata": {
        "colab": {
          "base_uri": "https://localhost:8080/"
        },
        "id": "dytuJiUhWyD-",
        "outputId": "8b0bc121-a815-4c38-f8d1-2cf2e179dde7"
      },
      "execution_count": 16,
      "outputs": [
        {
          "output_type": "stream",
          "name": "stdout",
          "text": [
            "1225776\n",
            "1245399\n"
          ]
        }
      ]
    },
    {
      "cell_type": "code",
      "source": [
        "# 2. 2000년부터의 데이터를 구해주세요 (2000 ~ 2011)\n",
        "#   연도  남자    여자\n",
        "#   2000  1234567 1234567\n",
        "#   ...     ...     ...\n",
        "year = birth[:, 0]\n",
        "boy = birth[:,1]\n",
        "girl = birth[:,2]\n",
        "\n",
        "print(year[year >= 2000])\n",
        "print(boy[year >= 2000])\n",
        "print(girl[year >= 2000])\n",
        "\n",
        "# tchr answer\n",
        "print(\"연도\", \"남자\", \"여자\", sep=\"\\t\")\n",
        "print(\"=\" * 30)\n",
        "for y,b,g in birth[birth[year>=2000]]:\n",
        "    print(y, b, g, sep=\"\\t\")\n",
        ""
      ],
      "metadata": {
        "colab": {
          "base_uri": "https://localhost:8080/",
          "height": 349
        },
        "id": "MGwIOaa3XCZs",
        "outputId": "65a999d3-0ee0-45c0-930b-0d038623738b"
      },
      "execution_count": 186,
      "outputs": [
        {
          "output_type": "stream",
          "name": "stdout",
          "text": [
            "[2000. 2001. 2002. 2003. 2004. 2005. 2006. 2007. 2008. 2009. 2010. 2011.]\n",
            "[1814601. 1799049. 1795206. 1825359. 1834145. 1845379. 1898463. 1919408.\n",
            " 1887234. 1832925. 1772738. 1753500.]\n",
            "[1962406. 1941251. 1939815. 1973434. 1982794. 1994841. 2052377. 2072139.\n",
            " 2036289. 1979303. 1913851. 1893230.]\n",
            "연도\t남자\t여자\n",
            "==============================\n"
          ]
        },
        {
          "output_type": "error",
          "ename": "ValueError",
          "evalue": "too many values to unpack (expected 2)",
          "traceback": [
            "\u001b[0;31m---------------------------------------------------------------------------\u001b[0m",
            "\u001b[0;31mValueError\u001b[0m                                Traceback (most recent call last)",
            "\u001b[0;32m<ipython-input-186-e983b672278e>\u001b[0m in \u001b[0;36m<cell line: 16>\u001b[0;34m()\u001b[0m\n\u001b[1;32m     14\u001b[0m \u001b[0mprint\u001b[0m\u001b[0;34m(\u001b[0m\u001b[0;34m\"연도\"\u001b[0m\u001b[0;34m,\u001b[0m \u001b[0;34m\"남자\"\u001b[0m\u001b[0;34m,\u001b[0m \u001b[0;34m\"여자\"\u001b[0m\u001b[0;34m,\u001b[0m \u001b[0msep\u001b[0m\u001b[0;34m=\u001b[0m\u001b[0;34m\"\\t\"\u001b[0m\u001b[0;34m)\u001b[0m\u001b[0;34m\u001b[0m\u001b[0;34m\u001b[0m\u001b[0m\n\u001b[1;32m     15\u001b[0m \u001b[0mprint\u001b[0m\u001b[0;34m(\u001b[0m\u001b[0;34m\"=\"\u001b[0m \u001b[0;34m*\u001b[0m \u001b[0;36m30\u001b[0m\u001b[0;34m)\u001b[0m\u001b[0;34m\u001b[0m\u001b[0;34m\u001b[0m\u001b[0m\n\u001b[0;32m---> 16\u001b[0;31m \u001b[0;32mfor\u001b[0m \u001b[0my\u001b[0m\u001b[0;34m,\u001b[0m\u001b[0mb\u001b[0m \u001b[0;32min\u001b[0m \u001b[0mbirth\u001b[0m\u001b[0;34m:\u001b[0m\u001b[0;34m\u001b[0m\u001b[0;34m\u001b[0m\u001b[0m\n\u001b[0m\u001b[1;32m     17\u001b[0m   \u001b[0;32mif\u001b[0m \u001b[0my\u001b[0m \u001b[0;34m>=\u001b[0m \u001b[0;36m2000\u001b[0m\u001b[0;34m:\u001b[0m\u001b[0;34m\u001b[0m\u001b[0;34m\u001b[0m\u001b[0m\n\u001b[1;32m     18\u001b[0m     \u001b[0mprint\u001b[0m\u001b[0;34m(\u001b[0m\u001b[0my\u001b[0m\u001b[0;34m,\u001b[0m \u001b[0mb\u001b[0m\u001b[0;34m,\u001b[0m \u001b[0mg\u001b[0m\u001b[0;34m,\u001b[0m \u001b[0msep\u001b[0m\u001b[0;34m=\u001b[0m\u001b[0;34m\"\\t\"\u001b[0m\u001b[0;34m)\u001b[0m\u001b[0;34m\u001b[0m\u001b[0;34m\u001b[0m\u001b[0m\n",
            "\u001b[0;31mValueError\u001b[0m: too many values to unpack (expected 2)"
          ]
        }
      ]
    },
    {
      "cell_type": "code",
      "source": [
        "# 3. 남자아이 출생이 가장 많은 연도와 남자아이 출생 수를 구해주세요\n",
        "print(year[np.argmax(boy)])\n",
        "print(np.max(boy))\n",
        "\n",
        "# tchr answer\n",
        "# argmax() : 가장 많은 값의 index 반환\n",
        "birth [birth[:,1].argmax()]\n",
        "y = birth [birth[:,1].argmax()][0]\n",
        "b = birth [birth[:,1].argmax()][1]\n",
        "\n",
        "print(\"연도\", \"남자아이\", sep='\\t')\n",
        "print(y,b,sep=\"\\t\")\n"
      ],
      "metadata": {
        "colab": {
          "base_uri": "https://localhost:8080/"
        },
        "id": "-yyE7wqeXN1p",
        "outputId": "6ca69dd7-e8bb-404c-f5c1-b2d66ed2c382"
      },
      "execution_count": 136,
      "outputs": [
        {
          "output_type": "stream",
          "name": "stdout",
          "text": [
            "1957.0\n",
            "2044160.0\n",
            "연도\t남자아이\n",
            "1957.0\t2044160.0\n"
          ]
        }
      ]
    },
    {
      "cell_type": "code",
      "source": [
        "# 4. 여자아이 출생이 가장 많은 top5를 구해주세요 (연도, 여자아이 수)\n",
        "print(year[np.argsort(girl)[-5:]])\n",
        "print(np.sort(girl)[-5:])\n",
        "\n",
        "# tchr answer\n",
        "top5_girls = np.sort(birth[:,2])[-1:-6:-1]\n",
        "print(top5_girls)\n",
        "\n",
        "print(\"연도\", \"여자아이\", sep='\\t')\n",
        "print(\"=\" * 30)\n",
        "for i in birth:\n",
        "  for j in top5_girls:\n",
        "    if (i[2] == j):\n",
        "      print(i[0], j, sep=\"\\t\")"
      ],
      "metadata": {
        "colab": {
          "base_uri": "https://localhost:8080/"
        },
        "id": "AZQjTReIXUk1",
        "outputId": "954061d2-895a-454f-9938-17eb924f0576"
      },
      "execution_count": 145,
      "outputs": [
        {
          "output_type": "stream",
          "name": "stdout",
          "text": [
            "[1958. 1961. 1960. 1959. 1957.]\n",
            "[2120712. 2122502. 2132717. 2133509. 2155866.]\n",
            "[2155866. 2133509. 2132717. 2122502. 2120712.]\n",
            "연도\t여자아이\n",
            "==============================\n",
            "1957.0\t2155866.0\n",
            "1958.0\t2120712.0\n",
            "1959.0\t2133509.0\n",
            "1960.0\t2132717.0\n",
            "1961.0\t2122502.0\n"
          ]
        }
      ]
    },
    {
      "cell_type": "code",
      "source": [
        "# 5. 여자아이 출생률(%)을 구하고, 각 연도별로 여자아이 출생수가 차지하는 비율을\n",
        "# 데이터로 보여주세요 (소수점 둘째자리까지)\n",
        "# year  boy  girl  q 이런 형식으로 출력\n",
        "# 1990  1234  1234  0.55\n",
        "girlRate = girl / (boy + girl) * 100\n",
        "print(np.round(girlRate,2))\n",
        "birth2 = np.column_stack((year, boy, girl, girlRate.astype(int)))\n",
        "print(birth2)\n",
        "\n",
        "# tchr answer\n",
        "girls_ratio = (birth[:,2] / (birth[:,1] + birth[:,2]) * 100).round(2)\n",
        "girls_ratio\n",
        "\n",
        "print(\"연도\", \"남아\", \"여아\",\"여아 출생률\", sep='\\t')\n",
        "print(\"=\" * 30)\n",
        "for y, b, g, gr in zip(birth[:,0], birth[:,1], birth[:,2], girls_ratio):\n",
        "    print(y, b, g, gr, sep=\"\\t\")"
      ],
      "metadata": {
        "colab": {
          "base_uri": "https://localhost:8080/"
        },
        "id": "JzloseeCXeTb",
        "outputId": "96f67317-b658-4ec5-e055-8c290c372883"
      },
      "execution_count": 150,
      "outputs": [
        {
          "output_type": "stream",
          "name": "stdout",
          "text": [
            "[54.84 52.28 51.32 48.23 47.01 44.76 43.39 40.99 40.35 38.27 36.84 35.3\n",
            " 36.5  34.54 34.18 33.44 33.45 32.5  32.16 31.31 33.42 30.79 31.72 31.28\n",
            " 31.75 31.21 31.08 31.55 31.59 32.08 32.88 35.07 43.51 45.08 46.23 46.31\n",
            " 46.01 46.12 46.68 46.45 47.04 47.18 47.54 47.61 47.56 47.83 48.37 48.59\n",
            " 48.99 49.06 49.36 49.4  49.45 49.59 49.72 49.82 49.92 50.06 50.13 50.23\n",
            " 50.34 50.41 50.55 50.56 50.66 50.73 50.82 50.79 50.82 50.9  51.11 51.1\n",
            " 51.18 51.16 51.2  51.29 51.29 51.33 51.33 51.33 51.33 51.27 51.27 51.32\n",
            " 51.27 51.33 51.32 51.38 51.46 51.48 51.54 51.54 51.61 51.68 51.74 51.73\n",
            " 51.73 51.74 51.74 51.76 51.8  51.78 51.73 51.76 51.73 51.78 51.77 51.77\n",
            " 51.8  52.04 51.96 51.86 51.99 52.02 51.97 51.98 51.94 51.99 51.96 51.98\n",
            " 51.96 51.9  51.94 51.95 51.95 51.95 51.95 51.91 51.9  51.92 51.91 51.92]\n",
            "[[1.880000e+03 9.099300e+04 1.104910e+05 5.400000e+01]\n",
            " [1.881000e+03 9.195400e+04 1.007450e+05 5.200000e+01]\n",
            " [1.882000e+03 1.078500e+05 1.136880e+05 5.100000e+01]\n",
            " [1.883000e+03 1.123210e+05 1.046290e+05 4.800000e+01]\n",
            " [1.884000e+03 1.290220e+05 1.144450e+05 4.700000e+01]\n",
            " [1.885000e+03 1.330550e+05 1.078000e+05 4.400000e+01]\n",
            " [1.886000e+03 1.445350e+05 1.107840e+05 4.300000e+01]\n",
            " [1.887000e+03 1.459820e+05 1.014140e+05 4.000000e+01]\n",
            " [1.888000e+03 1.786270e+05 1.208530e+05 4.000000e+01]\n",
            " [1.889000e+03 1.783660e+05 1.105840e+05 3.800000e+01]\n",
            " [1.890000e+03 1.903770e+05 1.110250e+05 3.600000e+01]\n",
            " [1.891000e+03 1.854820e+05 1.011960e+05 3.500000e+01]\n",
            " [1.892000e+03 2.123460e+05 1.220370e+05 3.600000e+01]\n",
            " [1.893000e+03 2.129060e+05 1.123170e+05 3.400000e+01]\n",
            " [1.894000e+03 2.229220e+05 1.157720e+05 3.400000e+01]\n",
            " [1.895000e+03 2.336300e+05 1.173980e+05 3.300000e+01]\n",
            " [1.896000e+03 2.379200e+05 1.195700e+05 3.300000e+01]\n",
            " [1.897000e+03 2.342020e+05 1.127580e+05 3.200000e+01]\n",
            " [1.898000e+03 2.587700e+05 1.226930e+05 3.200000e+01]\n",
            " [1.899000e+03 2.330230e+05 1.062120e+05 3.100000e+01]\n",
            " [1.900000e+03 2.998280e+05 1.504990e+05 3.300000e+01]\n",
            " [1.901000e+03 2.393480e+05 1.064710e+05 3.000000e+01]\n",
            " [1.902000e+03 2.640770e+05 1.226590e+05 3.100000e+01]\n",
            " [1.903000e+03 2.619730e+05 1.192340e+05 3.100000e+01]\n",
            " [1.904000e+03 2.753710e+05 1.281250e+05 3.100000e+01]\n",
            " [1.905000e+03 2.916290e+05 1.323190e+05 3.100000e+01]\n",
            " [1.906000e+03 2.953030e+05 1.331590e+05 3.100000e+01]\n",
            " [1.907000e+03 3.185660e+05 1.468330e+05 3.100000e+01]\n",
            " [1.908000e+03 3.343130e+05 1.543440e+05 3.100000e+01]\n",
            " [1.909000e+03 3.472280e+05 1.639990e+05 3.200000e+01]\n",
            " [1.910000e+03 3.965010e+05 1.942180e+05 3.200000e+01]\n",
            " [1.911000e+03 4.182990e+05 2.259680e+05 3.500000e+01]\n",
            " [1.912000e+03 5.581030e+05 4.299450e+05 4.300000e+01]\n",
            " [1.913000e+03 6.245180e+05 5.125570e+05 4.500000e+01]\n",
            " [1.914000e+03 7.615480e+05 6.547620e+05 4.600000e+01]\n",
            " [1.915000e+03 9.838740e+05 8.486030e+05 4.600000e+01]\n",
            " [1.916000e+03 1.044323e+06 8.900990e+05 4.600000e+01]\n",
            " [1.917000e+03 1.081280e+06 9.255110e+05 4.600000e+01]\n",
            " [1.918000e+03 1.157647e+06 1.013537e+06 4.600000e+01]\n",
            " [1.919000e+03 1.130145e+06 9.801490e+05 4.600000e+01]\n",
            " [1.920000e+03 1.198283e+06 1.064463e+06 4.700000e+01]\n",
            " [1.921000e+03 1.232999e+06 1.101457e+06 4.700000e+01]\n",
            " [1.922000e+03 1.200919e+06 1.088287e+06 4.700000e+01]\n",
            " [1.923000e+03 1.206330e+06 1.096168e+06 4.700000e+01]\n",
            " [1.924000e+03 1.248876e+06 1.132751e+06 4.700000e+01]\n",
            " [1.925000e+03 1.217352e+06 1.115958e+06 4.700000e+01]\n",
            " [1.926000e+03 1.185304e+06 1.110505e+06 4.800000e+01]\n",
            " [1.927000e+03 1.192330e+06 1.126717e+06 4.800000e+01]\n",
            " [1.928000e+03 1.153117e+06 1.107518e+06 4.800000e+01]\n",
            " [1.929000e+03 1.116422e+06 1.075313e+06 4.900000e+01]\n",
            " [1.930000e+03 1.125761e+06 1.097176e+06 4.900000e+01]\n",
            " [1.931000e+03 1.064497e+06 1.039127e+06 4.900000e+01]\n",
            " [1.932000e+03 1.066994e+06 1.043808e+06 4.900000e+01]\n",
            " [1.933000e+03 1.007710e+06 9.911270e+05 4.900000e+01]\n",
            " [1.934000e+03 1.044039e+06 1.032291e+06 4.900000e+01]\n",
            " [1.935000e+03 1.048428e+06 1.040930e+06 4.900000e+01]\n",
            " [1.936000e+03 1.040202e+06 1.036974e+06 4.900000e+01]\n",
            " [1.937000e+03 1.063872e+06 1.066309e+06 5.000000e+01]\n",
            " [1.938000e+03 1.103277e+06 1.108841e+06 5.000000e+01]\n",
            " [1.939000e+03 1.096518e+06 1.106544e+06 5.000000e+01]\n",
            " [1.940000e+03 1.143325e+06 1.158900e+06 5.000000e+01]\n",
            " [1.941000e+03 1.207919e+06 1.227941e+06 5.000000e+01]\n",
            " [1.942000e+03 1.350545e+06 1.380774e+06 5.000000e+01]\n",
            " [1.943000e+03 1.395082e+06 1.426846e+06 5.000000e+01]\n",
            " [1.944000e+03 1.327104e+06 1.362555e+06 5.000000e+01]\n",
            " [1.945000e+03 1.307028e+06 1.345610e+06 5.000000e+01]\n",
            " [1.946000e+03 1.571184e+06 1.623650e+06 5.000000e+01]\n",
            " [1.947000e+03 1.772644e+06 1.829223e+06 5.000000e+01]\n",
            " [1.948000e+03 1.697814e+06 1.754469e+06 5.000000e+01]\n",
            " [1.949000e+03 1.710825e+06 1.773725e+06 5.000000e+01]\n",
            " [1.950000e+03 1.713180e+06 1.790673e+06 5.100000e+01]\n",
            " [1.951000e+03 1.800042e+06 1.881080e+06 5.100000e+01]\n",
            " [1.952000e+03 1.854698e+06 1.944277e+06 5.100000e+01]\n",
            " [1.953000e+03 1.880326e+06 1.969777e+06 5.100000e+01]\n",
            " [1.954000e+03 1.941682e+06 2.037374e+06 5.100000e+01]\n",
            " [1.955000e+03 1.954664e+06 2.057918e+06 5.100000e+01]\n",
            " [1.956000e+03 2.007512e+06 2.113694e+06 5.100000e+01]\n",
            " [1.957000e+03 2.044160e+06 2.155866e+06 5.100000e+01]\n",
            " [1.958000e+03 2.010884e+06 2.120712e+06 5.100000e+01]\n",
            " [1.959000e+03 2.023044e+06 2.133509e+06 5.100000e+01]\n",
            " [1.960000e+03 2.022093e+06 2.132717e+06 5.100000e+01]\n",
            " [1.961000e+03 2.017316e+06 2.122502e+06 5.100000e+01]\n",
            " [1.962000e+03 1.966548e+06 2.068945e+06 5.100000e+01]\n",
            " [1.963000e+03 1.927217e+06 2.031755e+06 5.100000e+01]\n",
            " [1.964000e+03 1.894594e+06 1.993270e+06 5.100000e+01]\n",
            " [1.965000e+03 1.765001e+06 1.861378e+06 5.100000e+01]\n",
            " [1.966000e+03 1.691868e+06 1.783964e+06 5.100000e+01]\n",
            " [1.967000e+03 1.650764e+06 1.744527e+06 5.100000e+01]\n",
            " [1.968000e+03 1.640103e+06 1.738928e+06 5.100000e+01]\n",
            " [1.969000e+03 1.686947e+06 1.789732e+06 5.100000e+01]\n",
            " [1.970000e+03 1.748147e+06 1.859594e+06 5.100000e+01]\n",
            " [1.971000e+03 1.663475e+06 1.769201e+06 5.100000e+01]\n",
            " [1.972000e+03 1.521185e+06 1.622666e+06 5.100000e+01]\n",
            " [1.973000e+03 1.458139e+06 1.559338e+06 5.100000e+01]\n",
            " [1.974000e+03 1.467413e+06 1.573105e+06 5.100000e+01]\n",
            " [1.975000e+03 1.457699e+06 1.562207e+06 5.100000e+01]\n",
            " [1.976000e+03 1.465096e+06 1.569904e+06 5.100000e+01]\n",
            " [1.977000e+03 1.532997e+06 1.643684e+06 5.100000e+01]\n",
            " [1.978000e+03 1.531658e+06 1.642250e+06 5.100000e+01]\n",
            " [1.979000e+03 1.605051e+06 1.721947e+06 5.100000e+01]\n",
            " [1.980000e+03 1.659933e+06 1.783876e+06 5.100000e+01]\n",
            " [1.981000e+03 1.667465e+06 1.790907e+06 5.100000e+01]\n",
            " [1.982000e+03 1.692678e+06 1.813970e+06 5.100000e+01]\n",
            " [1.983000e+03 1.670061e+06 1.791732e+06 5.100000e+01]\n",
            " [1.984000e+03 1.682973e+06 1.803830e+06 5.100000e+01]\n",
            " [1.985000e+03 1.720036e+06 1.847032e+06 5.100000e+01]\n",
            " [1.986000e+03 1.714664e+06 1.840164e+06 5.100000e+01]\n",
            " [1.987000e+03 1.737891e+06 1.865662e+06 5.100000e+01]\n",
            " [1.988000e+03 1.779839e+06 1.912602e+06 5.100000e+01]\n",
            " [1.989000e+03 1.843105e+06 1.999999e+06 5.200000e+01]\n",
            " [1.990000e+03 1.897709e+06 2.052543e+06 5.100000e+01]\n",
            " [1.991000e+03 1.874434e+06 2.019463e+06 5.100000e+01]\n",
            " [1.992000e+03 1.843304e+06 1.996388e+06 5.100000e+01]\n",
            " [1.993000e+03 1.808379e+06 1.960397e+06 5.200000e+01]\n",
            " [1.994000e+03 1.785074e+06 1.931157e+06 5.100000e+01]\n",
            " [1.995000e+03 1.757927e+06 1.902832e+06 5.100000e+01]\n",
            " [1.996000e+03 1.752249e+06 1.893378e+06 5.100000e+01]\n",
            " [1.997000e+03 1.739806e+06 1.884122e+06 5.100000e+01]\n",
            " [1.998000e+03 1.765915e+06 1.910250e+06 5.100000e+01]\n",
            " [1.999000e+03 1.772632e+06 1.918809e+06 5.100000e+01]\n",
            " [2.000000e+03 1.814601e+06 1.962406e+06 5.100000e+01]\n",
            " [2.001000e+03 1.799049e+06 1.941251e+06 5.100000e+01]\n",
            " [2.002000e+03 1.795206e+06 1.939815e+06 5.100000e+01]\n",
            " [2.003000e+03 1.825359e+06 1.973434e+06 5.100000e+01]\n",
            " [2.004000e+03 1.834145e+06 1.982794e+06 5.100000e+01]\n",
            " [2.005000e+03 1.845379e+06 1.994841e+06 5.100000e+01]\n",
            " [2.006000e+03 1.898463e+06 2.052377e+06 5.100000e+01]\n",
            " [2.007000e+03 1.919408e+06 2.072139e+06 5.100000e+01]\n",
            " [2.008000e+03 1.887234e+06 2.036289e+06 5.100000e+01]\n",
            " [2.009000e+03 1.832925e+06 1.979303e+06 5.100000e+01]\n",
            " [2.010000e+03 1.772738e+06 1.913851e+06 5.100000e+01]\n",
            " [2.011000e+03 1.753500e+06 1.893230e+06 5.100000e+01]]\n",
            "연도\t남아\t여아\t여아 출생률\n",
            "==============================\n",
            "1880.0\t90993.0\t110491.0\t54.84\n",
            "1881.0\t91954.0\t100745.0\t52.28\n",
            "1882.0\t107850.0\t113688.0\t51.32\n",
            "1883.0\t112321.0\t104629.0\t48.23\n",
            "1884.0\t129022.0\t114445.0\t47.01\n",
            "1885.0\t133055.0\t107800.0\t44.76\n",
            "1886.0\t144535.0\t110784.0\t43.39\n",
            "1887.0\t145982.0\t101414.0\t40.99\n",
            "1888.0\t178627.0\t120853.0\t40.35\n",
            "1889.0\t178366.0\t110584.0\t38.27\n",
            "1890.0\t190377.0\t111025.0\t36.84\n",
            "1891.0\t185482.0\t101196.0\t35.3\n",
            "1892.0\t212346.0\t122037.0\t36.5\n",
            "1893.0\t212906.0\t112317.0\t34.54\n",
            "1894.0\t222922.0\t115772.0\t34.18\n",
            "1895.0\t233630.0\t117398.0\t33.44\n",
            "1896.0\t237920.0\t119570.0\t33.45\n",
            "1897.0\t234202.0\t112758.0\t32.5\n",
            "1898.0\t258770.0\t122693.0\t32.16\n",
            "1899.0\t233023.0\t106212.0\t31.31\n",
            "1900.0\t299828.0\t150499.0\t33.42\n",
            "1901.0\t239348.0\t106471.0\t30.79\n",
            "1902.0\t264077.0\t122659.0\t31.72\n",
            "1903.0\t261973.0\t119234.0\t31.28\n",
            "1904.0\t275371.0\t128125.0\t31.75\n",
            "1905.0\t291629.0\t132319.0\t31.21\n",
            "1906.0\t295303.0\t133159.0\t31.08\n",
            "1907.0\t318566.0\t146833.0\t31.55\n",
            "1908.0\t334313.0\t154344.0\t31.59\n",
            "1909.0\t347228.0\t163999.0\t32.08\n",
            "1910.0\t396501.0\t194218.0\t32.88\n",
            "1911.0\t418299.0\t225968.0\t35.07\n",
            "1912.0\t558103.0\t429945.0\t43.51\n",
            "1913.0\t624518.0\t512557.0\t45.08\n",
            "1914.0\t761548.0\t654762.0\t46.23\n",
            "1915.0\t983874.0\t848603.0\t46.31\n",
            "1916.0\t1044323.0\t890099.0\t46.01\n",
            "1917.0\t1081280.0\t925511.0\t46.12\n",
            "1918.0\t1157647.0\t1013537.0\t46.68\n",
            "1919.0\t1130145.0\t980149.0\t46.45\n",
            "1920.0\t1198283.0\t1064463.0\t47.04\n",
            "1921.0\t1232999.0\t1101457.0\t47.18\n",
            "1922.0\t1200919.0\t1088287.0\t47.54\n",
            "1923.0\t1206330.0\t1096168.0\t47.61\n",
            "1924.0\t1248876.0\t1132751.0\t47.56\n",
            "1925.0\t1217352.0\t1115958.0\t47.83\n",
            "1926.0\t1185304.0\t1110505.0\t48.37\n",
            "1927.0\t1192330.0\t1126717.0\t48.59\n",
            "1928.0\t1153117.0\t1107518.0\t48.99\n",
            "1929.0\t1116422.0\t1075313.0\t49.06\n",
            "1930.0\t1125761.0\t1097176.0\t49.36\n",
            "1931.0\t1064497.0\t1039127.0\t49.4\n",
            "1932.0\t1066994.0\t1043808.0\t49.45\n",
            "1933.0\t1007710.0\t991127.0\t49.59\n",
            "1934.0\t1044039.0\t1032291.0\t49.72\n",
            "1935.0\t1048428.0\t1040930.0\t49.82\n",
            "1936.0\t1040202.0\t1036974.0\t49.92\n",
            "1937.0\t1063872.0\t1066309.0\t50.06\n",
            "1938.0\t1103277.0\t1108841.0\t50.13\n",
            "1939.0\t1096518.0\t1106544.0\t50.23\n",
            "1940.0\t1143325.0\t1158900.0\t50.34\n",
            "1941.0\t1207919.0\t1227941.0\t50.41\n",
            "1942.0\t1350545.0\t1380774.0\t50.55\n",
            "1943.0\t1395082.0\t1426846.0\t50.56\n",
            "1944.0\t1327104.0\t1362555.0\t50.66\n",
            "1945.0\t1307028.0\t1345610.0\t50.73\n",
            "1946.0\t1571184.0\t1623650.0\t50.82\n",
            "1947.0\t1772644.0\t1829223.0\t50.79\n",
            "1948.0\t1697814.0\t1754469.0\t50.82\n",
            "1949.0\t1710825.0\t1773725.0\t50.9\n",
            "1950.0\t1713180.0\t1790673.0\t51.11\n",
            "1951.0\t1800042.0\t1881080.0\t51.1\n",
            "1952.0\t1854698.0\t1944277.0\t51.18\n",
            "1953.0\t1880326.0\t1969777.0\t51.16\n",
            "1954.0\t1941682.0\t2037374.0\t51.2\n",
            "1955.0\t1954664.0\t2057918.0\t51.29\n",
            "1956.0\t2007512.0\t2113694.0\t51.29\n",
            "1957.0\t2044160.0\t2155866.0\t51.33\n",
            "1958.0\t2010884.0\t2120712.0\t51.33\n",
            "1959.0\t2023044.0\t2133509.0\t51.33\n",
            "1960.0\t2022093.0\t2132717.0\t51.33\n",
            "1961.0\t2017316.0\t2122502.0\t51.27\n",
            "1962.0\t1966548.0\t2068945.0\t51.27\n",
            "1963.0\t1927217.0\t2031755.0\t51.32\n",
            "1964.0\t1894594.0\t1993270.0\t51.27\n",
            "1965.0\t1765001.0\t1861378.0\t51.33\n",
            "1966.0\t1691868.0\t1783964.0\t51.32\n",
            "1967.0\t1650764.0\t1744527.0\t51.38\n",
            "1968.0\t1640103.0\t1738928.0\t51.46\n",
            "1969.0\t1686947.0\t1789732.0\t51.48\n",
            "1970.0\t1748147.0\t1859594.0\t51.54\n",
            "1971.0\t1663475.0\t1769201.0\t51.54\n",
            "1972.0\t1521185.0\t1622666.0\t51.61\n",
            "1973.0\t1458139.0\t1559338.0\t51.68\n",
            "1974.0\t1467413.0\t1573105.0\t51.74\n",
            "1975.0\t1457699.0\t1562207.0\t51.73\n",
            "1976.0\t1465096.0\t1569904.0\t51.73\n",
            "1977.0\t1532997.0\t1643684.0\t51.74\n",
            "1978.0\t1531658.0\t1642250.0\t51.74\n",
            "1979.0\t1605051.0\t1721947.0\t51.76\n",
            "1980.0\t1659933.0\t1783876.0\t51.8\n",
            "1981.0\t1667465.0\t1790907.0\t51.78\n",
            "1982.0\t1692678.0\t1813970.0\t51.73\n",
            "1983.0\t1670061.0\t1791732.0\t51.76\n",
            "1984.0\t1682973.0\t1803830.0\t51.73\n",
            "1985.0\t1720036.0\t1847032.0\t51.78\n",
            "1986.0\t1714664.0\t1840164.0\t51.77\n",
            "1987.0\t1737891.0\t1865662.0\t51.77\n",
            "1988.0\t1779839.0\t1912602.0\t51.8\n",
            "1989.0\t1843105.0\t1999999.0\t52.04\n",
            "1990.0\t1897709.0\t2052543.0\t51.96\n",
            "1991.0\t1874434.0\t2019463.0\t51.86\n",
            "1992.0\t1843304.0\t1996388.0\t51.99\n",
            "1993.0\t1808379.0\t1960397.0\t52.02\n",
            "1994.0\t1785074.0\t1931157.0\t51.97\n",
            "1995.0\t1757927.0\t1902832.0\t51.98\n",
            "1996.0\t1752249.0\t1893378.0\t51.94\n",
            "1997.0\t1739806.0\t1884122.0\t51.99\n",
            "1998.0\t1765915.0\t1910250.0\t51.96\n",
            "1999.0\t1772632.0\t1918809.0\t51.98\n",
            "2000.0\t1814601.0\t1962406.0\t51.96\n",
            "2001.0\t1799049.0\t1941251.0\t51.9\n",
            "2002.0\t1795206.0\t1939815.0\t51.94\n",
            "2003.0\t1825359.0\t1973434.0\t51.95\n",
            "2004.0\t1834145.0\t1982794.0\t51.95\n",
            "2005.0\t1845379.0\t1994841.0\t51.95\n",
            "2006.0\t1898463.0\t2052377.0\t51.95\n",
            "2007.0\t1919408.0\t2072139.0\t51.91\n",
            "2008.0\t1887234.0\t2036289.0\t51.9\n",
            "2009.0\t1832925.0\t1979303.0\t51.92\n",
            "2010.0\t1772738.0\t1913851.0\t51.91\n",
            "2011.0\t1753500.0\t1893230.0\t51.92\n"
          ]
        }
      ]
    },
    {
      "cell_type": "code",
      "source": [
        "# 6. 2000년 이후 데이터에 대해 출생량을 구하고,\n",
        "# 남자아이 수가 1800000 이상이면 '많음', 아니면 '적음' 이라는 내용을 출력\n",
        "a = boy[year >= 2000]\n",
        "b = girl[year >= 2000]\n",
        "c = a + b\n",
        "print(c)\n",
        "\n",
        "for i in range(len(a)):\n",
        "    if a[i] >= 1800000:\n",
        "        print(a[i],'많음')\n",
        "    else:\n",
        "        print(a[i],'적음')\n",
        "\n",
        "#tchr answer\n",
        "after_2000 = birth[birth[:,0] >= 2000]\n",
        "print(after_2000)\n",
        "\n",
        "boys = after_2000[:,1]\n",
        "print(boys)\n",
        "\n",
        "amount = np.where(boys >= 1800000, '많음', '적음')\n",
        "print(amount)\n",
        "\n",
        "for y, b, amt in zip(after_2000[:,0], boys, amount):\n",
        "    print(y, b, amt)"
      ],
      "metadata": {
        "colab": {
          "base_uri": "https://localhost:8080/"
        },
        "id": "t2AVA8YyX18n",
        "outputId": "6b798ac2-86e2-4014-c71f-d149257e80f1"
      },
      "execution_count": 157,
      "outputs": [
        {
          "output_type": "stream",
          "name": "stdout",
          "text": [
            "[3777007. 3740300. 3735021. 3798793. 3816939. 3840220. 3950840. 3991547.\n",
            " 3923523. 3812228. 3686589. 3646730.]\n",
            "1814601.0 많음\n",
            "1799049.0 적음\n",
            "1795206.0 적음\n",
            "1825359.0 많음\n",
            "1834145.0 많음\n",
            "1845379.0 많음\n",
            "1898463.0 많음\n",
            "1919408.0 많음\n",
            "1887234.0 많음\n",
            "1832925.0 많음\n",
            "1772738.0 적음\n",
            "1753500.0 적음\n",
            "[[2.00000000e+03 1.81460100e+06 1.96240600e+06 5.19566419e+01\n",
            "  5.19566419e+01 5.19566419e+01 5.19566419e+01]\n",
            " [2.00100000e+03 1.79904900e+06 1.94125100e+06 5.19009438e+01\n",
            "  5.19009438e+01 5.19009438e+01 5.19009438e+01]\n",
            " [2.00200000e+03 1.79520600e+06 1.93981500e+06 5.19358526e+01\n",
            "  5.19358526e+01 5.19358526e+01 5.19358526e+01]\n",
            " [2.00300000e+03 1.82535900e+06 1.97343400e+06 5.19489743e+01\n",
            "  5.19489743e+01 5.19489743e+01 5.19489743e+01]\n",
            " [2.00400000e+03 1.83414500e+06 1.98279400e+06 5.19472279e+01\n",
            "  5.19472279e+01 5.19472279e+01 5.19472279e+01]\n",
            " [2.00500000e+03 1.84537900e+06 1.99484100e+06 5.19460083e+01\n",
            "  5.19460083e+01 5.19460083e+01 5.19460083e+01]\n",
            " [2.00600000e+03 1.89846300e+06 2.05237700e+06 5.19478643e+01\n",
            "  5.19478643e+01 5.19478643e+01 5.19478643e+01]\n",
            " [2.00700000e+03 1.91940800e+06 2.07213900e+06 5.19131805e+01\n",
            "  5.19131805e+01 5.19131805e+01 5.19131805e+01]\n",
            " [2.00800000e+03 1.88723400e+06 2.03628900e+06 5.18995046e+01\n",
            "  5.18995046e+01 5.18995046e+01 5.18995046e+01]\n",
            " [2.00900000e+03 1.83292500e+06 1.97930300e+06 5.19198484e+01\n",
            "  5.19198484e+01 5.19198484e+01 5.19198484e+01]\n",
            " [2.01000000e+03 1.77273800e+06 1.91385100e+06 5.19138694e+01\n",
            "  5.19138694e+01 5.19138694e+01 5.19138694e+01]\n",
            " [2.01100000e+03 1.75350000e+06 1.89323000e+06 5.19158260e+01\n",
            "  5.19158260e+01 5.19158260e+01 5.19158260e+01]]\n",
            "[1814601. 1799049. 1795206. 1825359. 1834145. 1845379. 1898463. 1919408.\n",
            " 1887234. 1832925. 1772738. 1753500.]\n",
            "['많음' '적음' '적음' '많음' '많음' '많음' '많음' '많음' '많음' '많음' '적음' '적음']\n",
            "2000.0 1814601.0 많음\n",
            "2001.0 1799049.0 적음\n",
            "2002.0 1795206.0 적음\n",
            "2003.0 1825359.0 많음\n",
            "2004.0 1834145.0 많음\n",
            "2005.0 1845379.0 많음\n",
            "2006.0 1898463.0 많음\n",
            "2007.0 1919408.0 많음\n",
            "2008.0 1887234.0 많음\n",
            "2009.0 1832925.0 많음\n",
            "2010.0 1772738.0 적음\n",
            "2011.0 1753500.0 적음\n"
          ]
        }
      ]
    },
    {
      "cell_type": "code",
      "source": [
        "# 7. 1800년대, 1900년대, 2000년대 각 남자아이, 여자아이 출생수의 평균\n",
        "a20 = boy[year >= 2000]\n",
        "b20 = girl[year >= 2000]\n",
        "a19 = boy[(year >= 1900) & (year < 2000)]\n",
        "b19 = girl[(year >= 1900) & (year < 2000)]\n",
        "a18 = boy[(year >= 1800) & (year < 1900)]\n",
        "b18 = girl[(year >= 1800) & (year < 1900)]\n",
        "print(np.around(np.mean(a20),2), np.around(np.mean(b20),2))\n",
        "print(np.mean(a19), np.mean(b19))\n",
        "print(np.mean(a18), np.mean(b18))\n",
        "\n",
        "#tchr answer\n",
        "print(\"1800년대\")\n",
        "print(\"남아 평균\", \"여야 평균\")\n",
        "k_1800s = birth[(birth[:,0] >= 1800) & (birth[:,0] < 1900)][:, 1:]\n",
        "# print(k_1800s)\n",
        "print(k_1800s.mean(axis=0)[0], k_1800s.mean(axis=0)[1])\n",
        "print(\"1900년대\")\n",
        "print(\"남아 평균\", \"여야 평균\")\n",
        "k_1900s = birth[(birth[:,0] >= 1900) & (birth[:,0] < 2000)][:, 1:]\n",
        "# print(k_1900s)\n",
        "print(k_1900s.mean(axis=0)[0], k_1900s.mean(axis=0)[1])\n",
        "print(\"20000년대\")\n",
        "print(\"남아 평균\", \"여야 평균\")\n",
        "k_2000s = birth[(birth[:,0] >= 2000)][:, 1:]\n",
        "# print(k_1800s)\n",
        "print(k_1800s.mean(axis=0)[0].round(2), k_1800s.mean(axis=0)[1])"
      ],
      "metadata": {
        "colab": {
          "base_uri": "https://localhost:8080/"
        },
        "id": "hLKEvXzqX_3r",
        "outputId": "f54efd52-9697-429c-b417-23b96bd121a4"
      },
      "execution_count": 165,
      "outputs": [
        {
          "output_type": "stream",
          "name": "stdout",
          "text": [
            "1831500.58 1978477.5\n",
            "1362901.51 1384145.55\n",
            "176714.15 111820.55\n",
            "1800년대\n",
            "남아 평균 여야 평균\n",
            "176714.15 111820.55\n",
            "1900년대\n",
            "남아 평균 여야 평균\n",
            "1362901.51 1384145.55\n",
            "20000년대\n",
            "남아 평균 여야 평균\n",
            "176714.15 111820.55\n"
          ]
        }
      ]
    },
    {
      "cell_type": "code",
      "source": [
        "# 8. 여자아이 출생수 25%~75% 사이의 값을 구해주세요(연도, 여자아이 출생수)\n",
        "np.quantile(girl, [0.25,0.75])\n",
        "\n",
        "# tchr answer\n",
        "g_q25 = np.quantile(birth[:,2], 0.25)\n",
        "g_q75 = np.quantile(birth[:,2], 0.75)\n",
        "print(g_q25, g_q75)\n",
        "print(birth[(birth[:,2] >= g_q25) & (birth[:,2] >= g_q75)][:,[0,2]].astype(int) )"
      ],
      "metadata": {
        "colab": {
          "base_uri": "https://localhost:8080/"
        },
        "id": "wIENCAFIYUvD",
        "outputId": "11252e27-c9ad-46b4-d9a1-2d055256ded2"
      },
      "execution_count": 172,
      "outputs": [
        {
          "output_type": "stream",
          "name": "stdout",
          "text": [
            "491904.0 1904686.5\n",
            "[[   1952 1944277]\n",
            " [   1953 1969777]\n",
            " [   1954 2037374]\n",
            " [   1955 2057918]\n",
            " [   1956 2113694]\n",
            " [   1957 2155866]\n",
            " [   1958 2120712]\n",
            " [   1959 2133509]\n",
            " [   1960 2132717]\n",
            " [   1961 2122502]\n",
            " [   1962 2068945]\n",
            " [   1963 2031755]\n",
            " [   1964 1993270]\n",
            " [   1988 1912602]\n",
            " [   1989 1999999]\n",
            " [   1990 2052543]\n",
            " [   1991 2019463]\n",
            " [   1992 1996388]\n",
            " [   1993 1960397]\n",
            " [   1994 1931157]\n",
            " [   1998 1910250]\n",
            " [   1999 1918809]\n",
            " [   2000 1962406]\n",
            " [   2001 1941251]\n",
            " [   2002 1939815]\n",
            " [   2003 1973434]\n",
            " [   2004 1982794]\n",
            " [   2005 1994841]\n",
            " [   2006 2052377]\n",
            " [   2007 2072139]\n",
            " [   2008 2036289]\n",
            " [   2009 1979303]\n",
            " [   2010 1913851]]\n"
          ]
        }
      ]
    },
    {
      "cell_type": "code",
      "source": [
        "# 9. 2000년대 남자아이 데이터를 bar차트\n",
        "\n",
        "a = year[year >= 2000]\n",
        "b = boy[year >= 2000]\n",
        "\n",
        "plt.plot(a, b, 'bo--')\n",
        "plt.bar(a,b)\n",
        "\n",
        "plt.title('Kor')\n",
        "plt.xlabel('year')\n",
        "plt.ylabel('boyNum')\n",
        "\n",
        "plt.show()\n",
        "\n",
        "#tchr answer\n",
        "b_2000s = birth[birth[:,0] >= 2000][:,0:2]\n",
        "plt.bar(b_2000s[:,0], b_2000s[:,1],color=\"salmon\")\n",
        "plt.title('Kor')\n",
        "plt.xlabel('year')\n",
        "plt.ylabel('boyNum')\n",
        "plt.show()"
      ],
      "metadata": {
        "colab": {
          "base_uri": "https://localhost:8080/",
          "height": 927
        },
        "id": "Tlb0m0jEpqP9",
        "outputId": "b4423c0d-fa0d-490f-c91e-b074d381f4e5"
      },
      "execution_count": 173,
      "outputs": [
        {
          "output_type": "display_data",
          "data": {
            "text/plain": [
              "<Figure size 640x480 with 1 Axes>"
            ],
            "image/png": "[encoded data removed]"
          },
          "metadata": {}
        },
        {
          "output_type": "display_data",
          "data": {
            "text/plain": [
              "<Figure size 640x480 with 1 Axes>"
            ],
            "image/png": "[encoded data removed]"
          },
          "metadata": {}
        }
      ]
    },
    {
      "cell_type": "markdown",
      "source": [],
      "metadata": {
        "id": "Mo3fzB-dp9nh"
      }
    }
  ]
}