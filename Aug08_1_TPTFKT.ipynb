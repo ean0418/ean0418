{
  "nbformat": 4,
  "nbformat_minor": 0,
  "metadata": {
    "colab": {
      "provenance": [],
      "authorship_tag": "ABX9TyO31JVF0bA2dJ8Ce+utMmPf",
      "include_colab_link": true
    },
    "kernelspec": {
      "name": "python3",
      "display_name": "Python 3"
    },
    "language_info": {
      "name": "python"
    }
  },
  "cells": [
    {
      "cell_type": "markdown",
      "metadata": {
        "id": "view-in-github",
        "colab_type": "text"
      },
      "source": [
        "<a href=\"https://colab.research.google.com/github/ean0418/ean0418/blob/main/Aug08_1_TPTFKT.ipynb\" target=\"_parent\"><img src=\"https://colab.research.google.com/assets/colab-badge.svg\" alt=\"Open In Colab\"/></a>"
      ]
    },
    {
      "cell_type": "markdown",
      "source": [
        "# TPTFKT (Text Preprocessing Tools For Korean Text) : 한국어 전처리 패키지\n",
        "\n",
        "#PyKoSpacing\n",
        "파이썬에서 한국어 띄어쓰기 해주는 패키지\n"
      ],
      "metadata": {
        "id": "F_r5NgQcghT2"
      }
    },
    {
      "cell_type": "code",
      "execution_count": null,
      "metadata": {
        "colab": {
          "base_uri": "https://localhost:8080/"
        },
        "id": "YutXEh2FgbGI",
        "outputId": "6c2a4841-b5c9-47e4-88c8-e7bf1956ae16"
      },
      "outputs": [
        {
          "output_type": "stream",
          "name": "stdout",
          "text": [
            "Collecting git+https://github.com/haven-jeon/PyKoSpacing.git\n",
            "  Cloning https://github.com/haven-jeon/PyKoSpacing.git to /tmp/pip-req-build-qbaiyrkg\n",
            "  Running command git clone --filter=blob:none --quiet https://github.com/haven-jeon/PyKoSpacing.git /tmp/pip-req-build-qbaiyrkg\n",
            "  Resolved https://github.com/haven-jeon/PyKoSpacing.git to commit b32a889cbd10b006d2f4aba118f0cd5b677e2979\n",
            "  Preparing metadata (setup.py) ... \u001b[?25l\u001b[?25hdone\n",
            "Collecting argument\n",
            "  Downloading argument-1.4.0.tar.gz (4.6 kB)\n",
            "  Preparing metadata (setup.py) ... \u001b[?25l\u001b[?25hdone\n",
            "Building wheels for collected packages: argument, pykospacing\n",
            "  Building wheel for argument (setup.py) ... \u001b[?25l\u001b[?25hdone\n",
            "  Created wheel for argument: filename=argument-1.4.0-py3-none-any.whl size=5662 sha256=3fd967e84021ddcc5bdcfcb9e66e5996b648269235eae7ef73cd356f888c27ae\n",
            "  Stored in directory: /root/.cache/pip/wheels/96/e4/24/16286476433011a8a2cb42be418e9a2fee32e7b0285bb0ced7\n",
            "  Building wheel for pykospacing (setup.py) ... \u001b[?25l\u001b[?25hdone\n",
            "  Created wheel for pykospacing: filename=pykospacing-0.5-py3-none-any.whl size=2286920 sha256=0fed86955551de8c50763b020c91c629802ad22e697fd7087dd46132bbd8daa5\n",
            "  Stored in directory: /tmp/pip-ephem-wheel-cache-jnwuqorz/wheels/76/b3/33/dda14886ee76b8e53eb05580a14dfcf9145e9eb9d282c53f28\n",
            "Successfully built argument pykospacing\n",
            "Installing collected packages: argument, pykospacing\n",
            "Successfully installed argument-1.4.0 pykospacing-0.5\n"
          ]
        }
      ],
      "source": [
        "!pip install --no-deps argument git+https://github.com/haven-jeon/PyKoSpacing.git"
      ]
    },
    {
      "cell_type": "code",
      "source": [
        "sentence = \"\"\"[서울=뉴시스]홍연우 기자 = 목요일인 8일은 낮 최고기온이 36도까지 올라 무더운 가운데 전국 대부분 지역에 돌풍과 천둥·번개를 동반한 강한 비나 소나기가 내리는 곳이 있겠다.\n",
        "기상청은 이날 \"중부지방은 대체로 흐리다가 오후부터 가끔 구름 많겠으며 오후까지 비가 내리는 곳이 있겠다. 강원도는 밤까지 비가 이어지는 곳이 있겠다\"라고 설명했다. 예상 강수량은 ▲서울·인천·경기 10~50㎜ (많은 곳 인천·경기남서부 60㎜ 이상) ▲서해5도 5~20㎜ ▲강원도 5~40㎜ ▲대전·세종·충남 10~60㎜ ▲충북 10~40㎜다.\n",
        "이날 오전 7시40분을 기해 서울 송파구, 강남구, 서초구, 강동구 등 동남권에는 호우주의보가 발효된 상태다.\n",
        "호우주의보는 3시간 강우량이 60㎜ 혹은 12시간 강우량이 110㎜ 이상으로 예측될 때 내려진다.\"\"\""
      ],
      "metadata": {
        "id": "mdt7gR8rhDC5"
      },
      "execution_count": null,
      "outputs": []
    },
    {
      "cell_type": "code",
      "source": [
        "sentence2 = sentence.replace(\" \",\"\") # 띄어쓰기 없애기\n",
        "sentence2"
      ],
      "metadata": {
        "colab": {
          "base_uri": "https://localhost:8080/",
          "height": 127
        },
        "id": "VpOHdZIlhq1g",
        "outputId": "c2d878d7-8ed3-4a6f-a860-f2ebe350c5ac"
      },
      "execution_count": null,
      "outputs": [
        {
          "output_type": "execute_result",
          "data": {
            "text/plain": [
              "'[서울=뉴시스]홍연우기자=목요일인8일은낮최고기온이36도까지올라무더운가운데전국대부분지역에돌풍과천둥·번개를동반한강한비나소나기가내리는곳이있겠다.\\n기상청은이날\"중부지방은대체로흐리다가오후부터가끔구름많겠으며오후까지비가내리는곳이있겠다.강원도는밤까지비가이어지는곳이있겠다\"라고설명했다.예상강수량은▲서울·인천·경기10~50㎜(많은곳인천·경기남서부60㎜이상)▲서해5도5~20㎜▲강원도5~40㎜▲대전·세종·충남10~60㎜▲충북10~40㎜다.\\n이날오전7시40분을기해서울송파구,강남구,서초구,강동구등동남권에는호우주의보가발효된상태다.\\n호우주의보는3시간강우량이60㎜혹은12시간강우량이110㎜이상으로예측될때내려진다.'"
            ],
            "application/vnd.google.colaboratory.intrinsic+json": {
              "type": "string"
            }
          },
          "metadata": {},
          "execution_count": 4
        }
      ]
    },
    {
      "cell_type": "code",
      "source": [
        "from pykospacing import Spacing"
      ],
      "metadata": {
        "id": "YzBR3W7xh3NE"
      },
      "execution_count": null,
      "outputs": []
    },
    {
      "cell_type": "code",
      "source": [
        "spacing = Spacing()\n",
        "s = spacing(sentence2)\n",
        "\n",
        "print(sentence)\n",
        "print()\n",
        "print(s)"
      ],
      "metadata": {
        "colab": {
          "base_uri": "https://localhost:8080/"
        },
        "id": "ZCZ2abKAh74n",
        "outputId": "86e2db62-d80b-47a2-8c92-d7f06afe37e2"
      },
      "execution_count": null,
      "outputs": [
        {
          "output_type": "stream",
          "name": "stdout",
          "text": [
            "[서울=뉴시스]홍연우 기자 = 목요일인 8일은 낮 최고기온이 36도까지 올라 무더운 가운데 전국 대부분 지역에 돌풍과 천둥·번개를 동반한 강한 비나 소나기가 내리는 곳이 있겠다.\n",
            "기상청은 이날 \"중부지방은 대체로 흐리다가 오후부터 가끔 구름 많겠으며 오후까지 비가 내리는 곳이 있겠다. 강원도는 밤까지 비가 이어지는 곳이 있겠다\"라고 설명했다. 예상 강수량은 ▲서울·인천·경기 10~50㎜ (많은 곳 인천·경기남서부 60㎜ 이상) ▲서해5도 5~20㎜ ▲강원도 5~40㎜ ▲대전·세종·충남 10~60㎜ ▲충북 10~40㎜다.\n",
            "이날 오전 7시40분을 기해 서울 송파구, 강남구, 서초구, 강동구 등 동남권에는 호우주의보가 발효된 상태다.\n",
            "호우주의보는 3시간 강우량이 60㎜ 혹은 12시간 강우량이 110㎜ 이상으로 예측될 때 내려진다.\n",
            "\n",
            "[서울=뉴시스]홍연우기자=목요일인 8일은 낮 최고기온이 36도까지 올라 무더운 가운데 전국 대부분 지역에 돌풍과 천둥·번개를 동반한 강한 비나 소나기가 내리는 곳이 있겠다. 기상청은 이날 \"중부지방은 대체로 흐리다가 오후부터 가끔 구름 많겠으며 오후까지 비가 내리는 곳이 있겠다. 강원도는 밤까지 비가 이어지는 곳이 있겠다\"라고 설명했다. 예상 강수량은 ▲서울·인천·경기 10~50㎜(많은 곳 인 천·경기 남서부 60㎜ 이상) ▲서해5도 5~20 ㎜ ▲강원도 5~40㎜ ▲대전·세종·충남 10~60㎜ ▲충북 10~40㎜다. 이날 오전 7시40분을 기해 서울 송파구, 강남구, 서초구, 강동구 등 동남권에는 호우주의보가 발효된 상태다. 호우주의보는 3시간 강우량이 60㎜혹은 12시간 강우량이 110㎜ 이상으로 예측될 때 내려진다.\n"
          ]
        }
      ]
    },
    {
      "cell_type": "code",
      "source": [
        "!pip install soynlp"
      ],
      "metadata": {
        "colab": {
          "base_uri": "https://localhost:8080/"
        },
        "id": "jHm6u2EbiEj7",
        "outputId": "15c382ef-2dd0-41c3-d1ef-9c8a9e75047f"
      },
      "execution_count": null,
      "outputs": [
        {
          "output_type": "stream",
          "name": "stdout",
          "text": [
            "Collecting soynlp\n",
            "  Downloading soynlp-0.0.493-py3-none-any.whl.metadata (24 kB)\n",
            "Requirement already satisfied: numpy>=1.12.1 in /usr/local/lib/python3.10/dist-packages (from soynlp) (1.26.4)\n",
            "Requirement already satisfied: psutil>=5.0.1 in /usr/local/lib/python3.10/dist-packages (from soynlp) (5.9.5)\n",
            "Requirement already satisfied: scipy>=1.1.0 in /usr/local/lib/python3.10/dist-packages (from soynlp) (1.13.1)\n",
            "Requirement already satisfied: scikit-learn>=0.20.0 in /usr/local/lib/python3.10/dist-packages (from soynlp) (1.3.2)\n",
            "Requirement already satisfied: joblib>=1.1.1 in /usr/local/lib/python3.10/dist-packages (from scikit-learn>=0.20.0->soynlp) (1.4.2)\n",
            "Requirement already satisfied: threadpoolctl>=2.0.0 in /usr/local/lib/python3.10/dist-packages (from scikit-learn>=0.20.0->soynlp) (3.5.0)\n",
            "Downloading soynlp-0.0.493-py3-none-any.whl (416 kB)\n",
            "\u001b[?25l   \u001b[90m━━━━━━━━━━━━━━━━━━━━━━━━━━━━━━━━━━━━━━━━\u001b[0m \u001b[32m0.0/416.8 kB\u001b[0m \u001b[31m?\u001b[0m eta \u001b[36m-:--:--\u001b[0m\r\u001b[2K   \u001b[90m━━━━━━━━━━━━━━━━━━━━━━━━━━━━━━━━━━━━━━━━\u001b[0m \u001b[32m416.8/416.8 kB\u001b[0m \u001b[31m14.3 MB/s\u001b[0m eta \u001b[36m0:00:00\u001b[0m\n",
            "\u001b[?25hInstalling collected packages: soynlp\n",
            "Successfully installed soynlp-0.0.493\n"
          ]
        }
      ]
    },
    {
      "cell_type": "code",
      "source": [
        "from soynlp.normalizer import *"
      ],
      "metadata": {
        "id": "m5HucKXwitsS"
      },
      "execution_count": null,
      "outputs": []
    },
    {
      "cell_type": "code",
      "source": [
        "# SNS나 채팅의 경우 'ㅋㅋㅋㅋㅋㅋㅋㅋ','ㅎㅎㅎㅎㅎㅎ' 같이\n",
        "# 불필요하게 연속되는 경우가 꽤나 많은데\n",
        "# 반복되는 것들을 하나로 정규화시켜줄 수 있음\n",
        "print(emoticon_normalize('ㅋㅋㅋㅋㅋㅋㅋㅋㅋㅋㅋㅋ', num_repeats=2))\n",
        "print(emoticon_normalize('ㅎㅎㅎㅎㅎㅎㅎㅎㅎㅎ', num_repeats=2))"
      ],
      "metadata": {
        "colab": {
          "base_uri": "https://localhost:8080/"
        },
        "id": "RqJ_IO7Xi3Dg",
        "outputId": "8ddc2f43-a613-4fca-d54f-83b67cf6635b"
      },
      "execution_count": null,
      "outputs": [
        {
          "output_type": "stream",
          "name": "stdout",
          "text": [
            "ㅋㅋ\n",
            "ㅎㅎ\n"
          ]
        }
      ]
    },
    {
      "cell_type": "code",
      "source": [
        "print(emoticon_normalize('으하하하하하하하ㅏㅎ하ㅏ하핫ㅎ', num_repeats=3))\n",
        "print(emoticon_normalize('으하하하하하하하ㅏㅎ하ㅏ하핫ㅎ', num_repeats=2))\n",
        "print(emoticon_normalize('으하하하하하하하ㅏㅎ하ㅏ하핫ㅎ', num_repeats=5))\n"
      ],
      "metadata": {
        "colab": {
          "base_uri": "https://localhost:8080/"
        },
        "id": "zo0dne6ejdbZ",
        "outputId": "069e817b-3eff-4c99-8cf6-5b844e4e72f9"
      },
      "execution_count": null,
      "outputs": [
        {
          "output_type": "stream",
          "name": "stdout",
          "text": [
            "으하하하ㅏㅎㅎㅏㅏ하ㅎ\n",
            "으하하ㅏㅎㅎㅏㅏ하ㅎ\n",
            "으하하하하하ㅏㅎㅎㅏㅏ하ㅎ\n"
          ]
        }
      ]
    },
    {
      "cell_type": "code",
      "source": [
        "# Konlpy의 커스터마이즈 버전\n",
        "!pip install customized_konlpy"
      ],
      "metadata": {
        "colab": {
          "base_uri": "https://localhost:8080/"
        },
        "id": "g5HPk02SkAqO",
        "outputId": "5c7561e3-c465-4acf-be15-441558c3562f"
      },
      "execution_count": null,
      "outputs": [
        {
          "output_type": "stream",
          "name": "stdout",
          "text": [
            "Collecting customized_konlpy\n",
            "  Downloading customized_konlpy-0.0.64-py3-none-any.whl.metadata (10 kB)\n",
            "Collecting Jpype1>=0.6.1 (from customized_konlpy)\n",
            "  Downloading JPype1-1.5.0-cp310-cp310-manylinux_2_17_x86_64.manylinux2014_x86_64.whl.metadata (4.9 kB)\n",
            "Collecting konlpy>=0.4.4 (from customized_konlpy)\n",
            "  Downloading konlpy-0.6.0-py2.py3-none-any.whl.metadata (1.9 kB)\n",
            "Requirement already satisfied: packaging in /usr/local/lib/python3.10/dist-packages (from Jpype1>=0.6.1->customized_konlpy) (24.1)\n",
            "Requirement already satisfied: lxml>=4.1.0 in /usr/local/lib/python3.10/dist-packages (from konlpy>=0.4.4->customized_konlpy) (4.9.4)\n",
            "Requirement already satisfied: numpy>=1.6 in /usr/local/lib/python3.10/dist-packages (from konlpy>=0.4.4->customized_konlpy) (1.26.4)\n",
            "Downloading customized_konlpy-0.0.64-py3-none-any.whl (881 kB)\n",
            "\u001b[2K   \u001b[90m━━━━━━━━━━━━━━━━━━━━━━━━━━━━━━━━━━━━━━━━\u001b[0m \u001b[32m881.5/881.5 kB\u001b[0m \u001b[31m16.0 MB/s\u001b[0m eta \u001b[36m0:00:00\u001b[0m\n",
            "\u001b[?25hDownloading JPype1-1.5.0-cp310-cp310-manylinux_2_17_x86_64.manylinux2014_x86_64.whl (488 kB)\n",
            "\u001b[2K   \u001b[90m━━━━━━━━━━━━━━━━━━━━━━━━━━━━━━━━━━━━━━━━\u001b[0m \u001b[32m488.6/488.6 kB\u001b[0m \u001b[31m30.3 MB/s\u001b[0m eta \u001b[36m0:00:00\u001b[0m\n",
            "\u001b[?25hDownloading konlpy-0.6.0-py2.py3-none-any.whl (19.4 MB)\n",
            "\u001b[2K   \u001b[90m━━━━━━━━━━━━━━━━━━━━━━━━━━━━━━━━━━━━━━━━\u001b[0m \u001b[32m19.4/19.4 MB\u001b[0m \u001b[31m44.3 MB/s\u001b[0m eta \u001b[36m0:00:00\u001b[0m\n",
            "\u001b[?25hInstalling collected packages: Jpype1, konlpy, customized_konlpy\n",
            "Successfully installed Jpype1-1.5.0 customized_konlpy-0.0.64 konlpy-0.6.0\n"
          ]
        }
      ]
    },
    {
      "cell_type": "code",
      "source": [
        "from ckonlpy.tag import Twitter"
      ],
      "metadata": {
        "id": "Uzx1MESDkNp3"
      },
      "execution_count": null,
      "outputs": []
    },
    {
      "cell_type": "code",
      "source": [
        "twitter = Twitter()\n",
        "twitter.morphs(\"친구들은 나를 이안이라고 불러요\")"
      ],
      "metadata": {
        "colab": {
          "base_uri": "https://localhost:8080/"
        },
        "id": "PSbH9b7pkTUt",
        "outputId": "2129220e-9bb4-4504-c9bc-f85e00eb1e08"
      },
      "execution_count": null,
      "outputs": [
        {
          "output_type": "stream",
          "name": "stderr",
          "text": [
            "/usr/local/lib/python3.10/dist-packages/konlpy/tag/_okt.py:17: UserWarning: \"Twitter\" has changed to \"Okt\" since KoNLPy v0.4.5.\n",
            "  warn('\"Twitter\" has changed to \"Okt\" since KoNLPy v0.4.5.')\n"
          ]
        },
        {
          "output_type": "execute_result",
          "data": {
            "text/plain": [
              "['친', '구들', '은', '나를', '이안', '이라고', '불러요']"
            ]
          },
          "metadata": {},
          "execution_count": 17
        }
      ]
    },
    {
      "cell_type": "code",
      "source": [
        "# add_dictionary('정할 단어', '품사')\n",
        "twitter.add_dictionary('친구들', 'Noun')"
      ],
      "metadata": {
        "id": "rvWJeis6knkW"
      },
      "execution_count": null,
      "outputs": []
    },
    {
      "cell_type": "code",
      "source": [
        "twitter.morphs(\"친구들은 나를 이안이라고 불러요\")"
      ],
      "metadata": {
        "colab": {
          "base_uri": "https://localhost:8080/"
        },
        "id": "8PZv-HKilBW-",
        "outputId": "69fa47eb-b032-4ca9-e797-6c426a0788b8"
      },
      "execution_count": null,
      "outputs": [
        {
          "output_type": "execute_result",
          "data": {
            "text/plain": [
              "['친구들', '은', '나를', '이안이', '라고', '불러요']"
            ]
          },
          "metadata": {},
          "execution_count": 21
        }
      ]
    },
    {
      "cell_type": "code",
      "source": [
        "twitter.tagset # 품사 종류 확인"
      ],
      "metadata": {
        "colab": {
          "base_uri": "https://localhost:8080/"
        },
        "id": "qqdIOHwFlEIV",
        "outputId": "c7327918-d89e-4cd3-be34-3ec4b7e88cf9"
      },
      "execution_count": null,
      "outputs": [
        {
          "output_type": "execute_result",
          "data": {
            "text/plain": [
              "{'Adjective': '형용사',\n",
              " 'Adverb': '부사',\n",
              " 'Alpha': '알파벳',\n",
              " 'Conjunction': '접속사',\n",
              " 'Determiner': '관형사',\n",
              " 'Eomi': '어미',\n",
              " 'Exclamation': '감탄사',\n",
              " 'Foreign': '외국어, 한자 및 기타기호',\n",
              " 'Hashtag': '트위터 해쉬태그',\n",
              " 'Josa': '조사',\n",
              " 'KoreanParticle': '(ex: ㅋㅋ)',\n",
              " 'Noun': '명사',\n",
              " 'Number': '숫자',\n",
              " 'Modifier': '관형사',\n",
              " 'PreEomi': '선어말어미',\n",
              " 'Punctuation': '구두점',\n",
              " 'ScreenName': '트위터 아이디',\n",
              " 'Suffix': '접미사',\n",
              " 'Unknown': '미등록어',\n",
              " 'Verb': '동사'}"
            ]
          },
          "metadata": {},
          "execution_count": 22
        }
      ]
    },
    {
      "cell_type": "code",
      "source": [],
      "metadata": {
        "id": "I_jp6rQJlUhb"
      },
      "execution_count": null,
      "outputs": []
    }
  ]
}