{
  "nbformat": 4,
  "nbformat_minor": 0,
  "metadata": {
    "colab": {
      "provenance": [],
      "authorship_tag": "ABX9TyOGgU6GineUJxeWKnuNZrJY",
      "include_colab_link": true
    },
    "kernelspec": {
      "name": "python3",
      "display_name": "Python 3"
    },
    "language_info": {
      "name": "python"
    }
  },
  "cells": [
    {
      "cell_type": "markdown",
      "metadata": {
        "id": "view-in-github",
        "colab_type": "text"
      },
      "source": [
        "<a href=\"https://colab.research.google.com/github/ean0418/ean0418/blob/main/Aug06_3_Regex.ipynb\" target=\"_parent\"><img src=\"https://colab.research.google.com/assets/colab-badge.svg\" alt=\"Open In Colab\"/></a>"
      ]
    },
    {
      "cell_type": "code",
      "execution_count": 1,
      "metadata": {
        "id": "T43ts1YKa9m3"
      },
      "outputs": [],
      "source": [
        "# 파이썬에서 정규 표현식을 사용할 때, 내장 모듈인 re를 사용\n",
        "import re"
      ]
    },
    {
      "cell_type": "markdown",
      "source": [
        "# 메타 문자로 표현해서 일대일매칭\n",
        "\n",
        "# 메타문자 : 특수한 기능을 하는 문자\n",
        "- . : 한 개의 임의의 문자\n",
        "- ? : 앞의 문자가 존재할 수도 있고, 없을수도 있음 (문자가 0개 또는 1개)\n",
        "- * : 앞의 문자가 무한개로 존재할 수도 있고, 없을수도 있음 (문자가 0개 이상)\n",
        "- + : 앞의 문자가 최소 1개 이상 존재함\n",
        "- ^ : 뒤의 문자열로 문자열이 시작\n",
        "- $ : 앞의 문자열로 문자열이 끝\n",
        "- {숫자} : 숫자만큼 반복\n",
        "- {문자} : 대괄호 안의 문자들 중 한개의 문자와 매칭함\n",
        "- [^문자] : 해당 문자를 제외한 문자를 매칭함\n"
      ],
      "metadata": {
        "id": "L_Ba4uD3bsSO"
      }
    },
    {
      "cell_type": "code",
      "source": [
        "# re.match() 함수 : [문자열 처음]에 시작하는 패턴이 일치하는지 => 불일치시 None 반환\n",
        "# re.match(패턴, 문자열)\n",
        "print(re.match('a','a'))\n",
        "print(re.match('a','abc'))\n",
        "print(re.match('a','bca'))\n",
        "\n",
        "# 결과창의 span=(x,y) : matching되는 문자열의 위치를 반환, span(이상, 미만)"
      ],
      "metadata": {
        "colab": {
          "base_uri": "https://localhost:8080/"
        },
        "id": "xMqKNN_ObYaF",
        "outputId": "c39bb927-d900-4bf2-e878-ec10dc32b3f7"
      },
      "execution_count": 3,
      "outputs": [
        {
          "output_type": "stream",
          "name": "stdout",
          "text": [
            "<re.Match object; span=(0, 1), match='a'>\n",
            "<re.Match object; span=(0, 1), match='a'>\n",
            "None\n"
          ]
        }
      ]
    },
    {
      "cell_type": "code",
      "source": [
        "# re.search() 함수 : 처음이 아니더라도 문자열 어딘가\n",
        "#                   패턴에 해당하는 문자가 있으면 그 위치를 반환\n",
        "print(re.search('a','a'))\n",
        "print(re.search('a','bbb'))\n",
        "print(re.search('a','bba'))\n",
        "print(re.search('a','bbsdgfdgase'))\n"
      ],
      "metadata": {
        "colab": {
          "base_uri": "https://localhost:8080/"
        },
        "id": "F1tszBO_dCJV",
        "outputId": "c65a1343-1592-4dea-f44e-205e544edd68"
      },
      "execution_count": 4,
      "outputs": [
        {
          "output_type": "stream",
          "name": "stdout",
          "text": [
            "<re.Match object; span=(0, 1), match='a'>\n",
            "None\n",
            "<re.Match object; span=(2, 3), match='a'>\n",
            "<re.Match object; span=(8, 9), match='a'>\n"
          ]
        }
      ]
    },
    {
      "cell_type": "code",
      "source": [
        "# re.findall() 함수 : 문자열 중에서 패턴이랑 일치하는 모든 부분을 찾아줌\n",
        "print(re.findall('a','a'))\n",
        "print(re.findall('a','bbb'))\n",
        "print(re.findall('a','baba'))\n",
        "print(re.findall('aaa','aaaa'))# 한번 반환된 리스트는 재사용되지 않는다"
      ],
      "metadata": {
        "colab": {
          "base_uri": "https://localhost:8080/"
        },
        "id": "-ddjs-PId8-R",
        "outputId": "64ee625a-cc57-4b44-d34e-322635684e47"
      },
      "execution_count": 9,
      "outputs": [
        {
          "output_type": "stream",
          "name": "stdout",
          "text": [
            "['a']\n",
            "[]\n",
            "['a', 'a']\n",
            "['aaa']\n"
          ]
        }
      ]
    },
    {
      "cell_type": "code",
      "source": [
        "# re.finditer()함수 : 패턴과 일치하는 모든 부분의 위치를 알 수 있음\n",
        "where = re.finditer(\"a\", 'abca')\n",
        "print(where)\n",
        "for i in where:\n",
        "    print(i)"
      ],
      "metadata": {
        "colab": {
          "base_uri": "https://localhost:8080/"
        },
        "id": "G9a3gIFNeOwr",
        "outputId": "3f61d4df-fd06-44a4-df45-5a5ae1233248"
      },
      "execution_count": 11,
      "outputs": [
        {
          "output_type": "stream",
          "name": "stdout",
          "text": [
            "<callable_iterator object at 0x78a73f84e560>\n",
            "<re.Match object; span=(0, 1), match='a'>\n",
            "<re.Match object; span=(3, 4), match='a'>\n"
          ]
        }
      ]
    },
    {
      "cell_type": "code",
      "source": [
        "# re.fullmatch() 함수 : 패턴과 문자열이 완벽하게 일치할 경우에 그 위치를 반환\n",
        "print(re.fullmatch('a','a'))\n",
        "print(re.fullmatch('a','aaa'))\n",
        "print(re.fullmatch('a','abadas'))"
      ],
      "metadata": {
        "colab": {
          "base_uri": "https://localhost:8080/"
        },
        "id": "591zqp48e6lH",
        "outputId": "552b5821-fa5e-45d4-b660-b5434fb596ea"
      },
      "execution_count": 12,
      "outputs": [
        {
          "output_type": "stream",
          "name": "stdout",
          "text": [
            "<re.Match object; span=(0, 1), match='a'>\n",
            "None\n",
            "None\n"
          ]
        }
      ]
    },
    {
      "cell_type": "code",
      "source": [
        "matching = re.search('happy', 'Do not worry, be happy.')\n",
        "print(matching)\n",
        "\n",
        "# match 관련 method\n",
        "print(matching.group()) # group() : 일치하는 문자열을 반환\n",
        "print(matching.start()) # start() : 일치하는 문자열의 시작 위치를 반환\n",
        "print(matching.end()) # end() : 일치하는 문자열의 끝 위치를 반환\n",
        "print(matching.span()) # span() : 일치하는 문자열의 위치를 튜플로 반환"
      ],
      "metadata": {
        "colab": {
          "base_uri": "https://localhost:8080/"
        },
        "id": "L59w-IfffTe1",
        "outputId": "26178a49-9d31-48cb-a1c9-3272a329d3a8"
      },
      "execution_count": 15,
      "outputs": [
        {
          "output_type": "stream",
          "name": "stdout",
          "text": [
            "<re.Match object; span=(17, 22), match='happy'>\n",
            "happy\n",
            "17\n",
            "22\n",
            "(17, 22)\n"
          ]
        }
      ]
    },
    {
      "cell_type": "markdown",
      "source": [
        "# 대괄호 [] : 여러가지 문자 중 하나랑 일치\n",
        "\n",
        "[] 대괄호 안에 원하는 문자를 여러개 넣고\n",
        "\n",
        "문자열에서 대괄호에 넣은 문자 패턴과 일치하는게 하나라도 있으면 매칭이 이루어짐\n",
        "\n",
        "or || 개념과 비슷...!\n",
        "\n",
        "re.match(['a' or 'b' or 'c'], 'a')의 느낌"
      ],
      "metadata": {
        "id": "Y2X393KJgVuB"
      }
    },
    {
      "cell_type": "code",
      "source": [
        "# [a-z] : 소문자 a부터 z까지 중에 하나이기만 하면 매칭 가능\n",
        "# [A-Z]\n",
        "# [0-9] : 숫자 0부터 9까지 중에 하나이기만 하면 매칭\n",
        "# 한글 ..? Hmm..... [가-힣] 히히히힣ㅎㅎㅎㅎㅎ\n",
        "# 알파벳 대소문자 => [A-Za-z]\n"
      ],
      "metadata": {
        "id": "_sWqTefpfqrY"
      },
      "execution_count": 16,
      "outputs": []
    },
    {
      "cell_type": "code",
      "source": [
        "matching = re.fullmatch(\"You['-:~/<>]re sleepy\",\"You're sleepy\")\n",
        "matching"
      ],
      "metadata": {
        "colab": {
          "base_uri": "https://localhost:8080/"
        },
        "id": "93lJUcFkhg8h",
        "outputId": "f1cc36a8-4739-4aac-ce25-3a2bea0f062f"
      },
      "execution_count": 20,
      "outputs": [
        {
          "output_type": "execute_result",
          "data": {
            "text/plain": [
              "<re.Match object; span=(0, 13), match=\"You're sleepy\">"
            ]
          },
          "metadata": {},
          "execution_count": 20
        }
      ]
    },
    {
      "cell_type": "code",
      "source": [
        "matching2 = re.search('happy [a-z]uesday', 'happy tuesday')\n",
        "print(matching2)\n",
        "\n",
        "matching3 = re.search('happy [^0-9]uesday', 'happy tuesday')\n",
        "print(matching3)"
      ],
      "metadata": {
        "colab": {
          "base_uri": "https://localhost:8080/"
        },
        "id": "QhCO9_X-hvmt",
        "outputId": "6a76cf1e-6b8e-4094-83c8-8c908adb1e38"
      },
      "execution_count": 25,
      "outputs": [
        {
          "output_type": "stream",
          "name": "stdout",
          "text": [
            "<re.Match object; span=(0, 13), match='happy tuesday'>\n",
            "<re.Match object; span=(0, 13), match='happy tuesday'>\n"
          ]
        }
      ]
    },
    {
      "cell_type": "code",
      "source": [
        "# re.compile() 함수 : 사용하고자 하는 패턴이 자주 이용될 때 미리 컴파일 하는 용도\n",
        "# 마침표 . : 한 개의 임의의 문자\n",
        "m = re.compile('a.c') # a와 c 사이에 어떠한 문자라도 1개 올 수 있다\n",
        "print(m.search('abc'))\n",
        "print(m.search('aaa'))\n",
        "print(m.search('acc'))\n",
        "\n",
        "m2 = re.compile('a..c')\n",
        "print(m2.search('abbc'))\n",
        "print(m2.search('aaasdwqrtfdsga'))\n"
      ],
      "metadata": {
        "colab": {
          "base_uri": "https://localhost:8080/"
        },
        "id": "sxUMg83JiCWZ",
        "outputId": "ced3dd9a-bc9e-4626-a5fe-41ac3ae304e6"
      },
      "execution_count": 29,
      "outputs": [
        {
          "output_type": "stream",
          "name": "stdout",
          "text": [
            "<re.Match object; span=(0, 3), match='abc'>\n",
            "None\n",
            "<re.Match object; span=(0, 3), match='acc'>\n",
            "<re.Match object; span=(0, 4), match='abbc'>\n",
            "None\n"
          ]
        }
      ]
    },
    {
      "cell_type": "code",
      "source": [
        "# 물음표 ? : 물음표 바로 앞에 있는 문자가 있을 수도, 없을수도 있다는 것을 의미\n",
        "\n",
        "q = re.compile('ab?c')\n",
        "print(q.search('abc'))\n",
        "print(q.search('aaa'))\n",
        "print(q.search('acc'))\n",
        "print(q.search('ac'))"
      ],
      "metadata": {
        "colab": {
          "base_uri": "https://localhost:8080/"
        },
        "id": "IdkgG0zgix_x",
        "outputId": "91298e0c-d891-47fd-878b-7aadb51856c9"
      },
      "execution_count": 32,
      "outputs": [
        {
          "output_type": "stream",
          "name": "stdout",
          "text": [
            "<re.Match object; span=(0, 3), match='abc'>\n",
            "None\n",
            "<re.Match object; span=(0, 2), match='ac'>\n",
            "<re.Match object; span=(0, 2), match='ac'>\n"
          ]
        }
      ]
    },
    {
      "cell_type": "code",
      "source": [
        "# * : * 바로 앞에 있는 문자가 0개 이상일 때 (없어도 되고, 많아도 됨)\n",
        "s = re.compile('ab*c')\n",
        "print(s.search('abc'))\n",
        "print(s.search('aaa'))\n",
        "print(s.search('acc'))\n",
        "print(s.search('abbbbbbbbbbbbbbbbbbbbbbc'))"
      ],
      "metadata": {
        "colab": {
          "base_uri": "https://localhost:8080/"
        },
        "id": "2fDScnlAph9c",
        "outputId": "3005d514-7a65-4791-81d6-95a71d927faf"
      },
      "execution_count": 35,
      "outputs": [
        {
          "output_type": "stream",
          "name": "stdout",
          "text": [
            "<re.Match object; span=(0, 3), match='abc'>\n",
            "None\n",
            "<re.Match object; span=(0, 2), match='ac'>\n",
            "<re.Match object; span=(0, 24), match='abbbbbbbbbbbbbbbbbbbbbbc'>\n"
          ]
        }
      ]
    },
    {
      "cell_type": "code",
      "source": [
        "# + : *의 기능이랑 비슷하지만, + 앞에는 문자가 최소 한개 이상\n",
        "p = re.compile('ab+c')\n",
        "print(p.search('abc'))\n",
        "print(p.search('abbbbbbbbbbbbbbbbbbbbbbbbbbbc'))\n",
        "print(p.search('acc'))"
      ],
      "metadata": {
        "colab": {
          "base_uri": "https://localhost:8080/"
        },
        "id": "VcXe3-irp7ph",
        "outputId": "e63d7f80-137b-4322-acfc-e53a838ce67c"
      },
      "execution_count": 36,
      "outputs": [
        {
          "output_type": "stream",
          "name": "stdout",
          "text": [
            "<re.Match object; span=(0, 3), match='abc'>\n",
            "<re.Match object; span=(0, 29), match='abbbbbbbbbbbbbbbbbbbbbbbbbbbc'>\n",
            "None\n"
          ]
        }
      ]
    },
    {
      "cell_type": "code",
      "source": [
        "# ^ : ^ 뒤에 나오는 문자열과 동일해야함. 그 문자열로 시작하기만 하면 매칭이 가능\n",
        "c = re.compile('^ab')\n",
        "print(c.search('abc'))\n",
        "print(c.search('gab'))\n",
        "print(c.search('aqwert'))"
      ],
      "metadata": {
        "colab": {
          "base_uri": "https://localhost:8080/"
        },
        "id": "IQqGvOcBqWdA",
        "outputId": "9815f99c-7c35-408e-e0a8-b6953548c5b1"
      },
      "execution_count": 37,
      "outputs": [
        {
          "output_type": "stream",
          "name": "stdout",
          "text": [
            "<re.Match object; span=(0, 2), match='ab'>\n",
            "None\n",
            "None\n"
          ]
        }
      ]
    },
    {
      "cell_type": "code",
      "source": [
        "# {숫자} : {숫자} 바로 앞의 문자가 해당하는 숫자만 반복되어야 매칭이 가능\n",
        "n = re.compile('ab{2}c')\n",
        "print(n.search('abc'))\n",
        "print(n.search('abbc'))"
      ],
      "metadata": {
        "colab": {
          "base_uri": "https://localhost:8080/"
        },
        "id": "AnBRaXX-qj2P",
        "outputId": "255535e7-d906-448b-a032-3b7dc2561e72"
      },
      "execution_count": 38,
      "outputs": [
        {
          "output_type": "stream",
          "name": "stdout",
          "text": [
            "None\n",
            "<re.Match object; span=(0, 4), match='abbc'>\n"
          ]
        }
      ]
    },
    {
      "cell_type": "code",
      "source": [
        "# {숫자, 숫자} : {숫자, 숫자} 바로 앞의 문자가 해당하는 숫자만큼 반복되는데, 이상 ~ 이하\n",
        "nn = re.compile('ab{2,5}c')\n",
        "print(nn.search('abc'))\n",
        "print(nn.search('abbc'))\n",
        "print(nn.search('abbbbc'))"
      ],
      "metadata": {
        "colab": {
          "base_uri": "https://localhost:8080/"
        },
        "id": "7W7fWqXAqzeC",
        "outputId": "d6a0cc39-3e14-40d5-ab07-a8d981169d2b"
      },
      "execution_count": 39,
      "outputs": [
        {
          "output_type": "stream",
          "name": "stdout",
          "text": [
            "None\n",
            "<re.Match object; span=(0, 4), match='abbc'>\n",
            "<re.Match object; span=(0, 6), match='abbbbc'>\n"
          ]
        }
      ]
    },
    {
      "cell_type": "markdown",
      "source": [],
      "metadata": {
        "id": "hA_GyZh5rrBp"
      }
    },
    {
      "cell_type": "code",
      "source": [
        "# {숫자, } : {숫자,} 바오 앞에 문자가 해당하는 숫자 이상이기만 하면 맻밍이 가능\n",
        "nnn= re.compile('ab{2,}c')\n",
        "print(nnn.search('abc'))\n",
        "print(nnn.search('abbc'))\n",
        "print(nnn.search('abbbbbbbbbbbbbbbbbbbbbbbbbc'))"
      ],
      "metadata": {
        "colab": {
          "base_uri": "https://localhost:8080/"
        },
        "id": "-dCDlnigrK8T",
        "outputId": "a10db20c-5540-4b4e-975f-16b00b40d730"
      },
      "execution_count": 41,
      "outputs": [
        {
          "output_type": "stream",
          "name": "stdout",
          "text": [
            "None\n",
            "<re.Match object; span=(0, 4), match='abbc'>\n",
            "<re.Match object; span=(0, 27), match='abbbbbbbbbbbbbbbbbbbbbbbbbc'>\n"
          ]
        }
      ]
    },
    {
      "cell_type": "markdown",
      "source": [
        "# re.split() 함수\n",
        "\n",
        "기본 : 공백 기준 분리\n",
        "- 띄어쓰기 기준으로 단어를 나눠서 리스트로 리턴\n"
      ],
      "metadata": {
        "id": "mgejPQsSrtKo"
      }
    },
    {
      "cell_type": "code",
      "source": [
        "tt =\"\"\"모니터\n",
        "마우스\n",
        "키보드\n",
        "마이크\n",
        "카메라\n",
        "본체\"\"\"\n",
        "print(tt)\n",
        "re.split('\\n', tt)"
      ],
      "metadata": {
        "colab": {
          "base_uri": "https://localhost:8080/"
        },
        "id": "DuZ0MpWYras6",
        "outputId": "fdd9c45d-89e5-42a6-f18d-b80d9d802e28"
      },
      "execution_count": 42,
      "outputs": [
        {
          "output_type": "stream",
          "name": "stdout",
          "text": [
            "모니터\n",
            "마우스\n",
            "키보드\n",
            "마이크\n",
            "카메라\n",
            "본체\n"
          ]
        },
        {
          "output_type": "execute_result",
          "data": {
            "text/plain": [
              "['모니터', '마우스', '키보드', '마이크', '카메라', '본체']"
            ]
          },
          "metadata": {},
          "execution_count": 42
        }
      ]
    },
    {
      "cell_type": "code",
      "source": [],
      "metadata": {
        "id": "IlLIi_iWsFBR"
      },
      "execution_count": null,
      "outputs": []
    }
  ]
}