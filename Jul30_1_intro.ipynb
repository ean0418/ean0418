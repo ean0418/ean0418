{
  "nbformat": 4,
  "nbformat_minor": 0,
  "metadata": {
    "colab": {
      "provenance": [],
      "authorship_tag": "ABX9TyN6bMoFttd9Z5ZEXPw10Ymd",
      "include_colab_link": true
    },
    "kernelspec": {
      "name": "python3",
      "display_name": "Python 3"
    },
    "language_info": {
      "name": "python"
    }
  },
  "cells": [
    {
      "cell_type": "markdown",
      "metadata": {
        "id": "view-in-github",
        "colab_type": "text"
      },
      "source": [
        "<a href=\"https://colab.research.google.com/github/ean0418/ean0418/blob/main/Jul30_1_intro.ipynb\" target=\"_parent\"><img src=\"https://colab.research.google.com/assets/colab-badge.svg\" alt=\"Open In Colab\"/></a>"
      ]
    },
    {
      "cell_type": "code",
      "execution_count": null,
      "metadata": {
        "id": "zFVfVu1aLE2M"
      },
      "outputs": [],
      "source": []
    },
    {
      "cell_type": "markdown",
      "source": [
        "# Colab\n",
        "\n",
        "구글에서 제공하는 Colab\n",
        "\n",
        "브라우저에서 python을 작성하고, 실행 가능한 어플리케이션\n",
        "\n",
        "클라우드 기반으로 한 주피터 노트북 개발환경\n",
        "\n",
        "컴퓨터에 gpu가 없거나, 사양이 낮다면 => colab을 사용하는 것이 좋음\n",
        "\n",
        "별도의 python 설치가 필요 X\n",
        "\n",
        "데이터의 분석에 사용하는 numpy, pandas, keras, scikit-learn, tensorflow, ... 패키지가 기본적으로 설치가 되어있음! o0o\n",
        "\n",
        "다른 주피터 노트북보다 더 좋은 기능과 환경을 제공\n",
        "\n",
        "# 명령어\n",
        "\n",
        "- Ctrl + Enter : (커서가 깜빡이는)해당 셀을 실행\n",
        "- Shift + Enter : 해당 셀을 실행하고 다음 셀로 이동\n",
        "- Ctrl + M + Z : 실행 취소\n",
        "- Ctrl + M + D : 해당 셀을 지우기\n",
        "- Ctrl + ;     : 텍스트 셀 만들기\n",
        "- 도구 탭 => 단축키"
      ],
      "metadata": {
        "id": "Gd_U7SdTLLGv"
      }
    }
  ]
}