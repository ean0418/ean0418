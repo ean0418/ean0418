{
  "nbformat": 4,
  "nbformat_minor": 0,
  "metadata": {
    "colab": {
      "provenance": [],
      "authorship_tag": "ABX9TyMEH+W26/j8A16Kk3vhCvZI",
      "include_colab_link": true
    },
    "kernelspec": {
      "name": "python3",
      "display_name": "Python 3"
    },
    "language_info": {
      "name": "python"
    }
  },
  "cells": [
    {
      "cell_type": "markdown",
      "metadata": {
        "id": "view-in-github",
        "colab_type": "text"
      },
      "source": [
        "<a href=\"https://colab.research.google.com/github/ean0418/ean0418/blob/main/Jul31_1_Numpy.ipynb\" target=\"_parent\"><img src=\"https://colab.research.google.com/assets/colab-badge.svg\" alt=\"Open In Colab\"/></a>"
      ]
    },
    {
      "cell_type": "markdown",
      "source": [
        "# Numpy 함수\n",
        "\n",
        "# 하나의 array에 적용 (단항 유니버셜함수)\n",
        "\n",
        "유니버셜함수 : ndarray안에 있는 데이터의 요소별로 연산을 수행해주는 함수\n"
      ],
      "metadata": {
        "id": "WEQK-NZCIhaZ"
      }
    },
    {
      "cell_type": "code",
      "source": [
        "import numpy as np\n",
        "\n",
        "ar1 = np.random.randn(5, 3)\n",
        "ar1"
      ],
      "metadata": {
        "colab": {
          "base_uri": "https://localhost:8080/"
        },
        "id": "luD9TQIJI6qB",
        "outputId": "0fc1a7c2-2a5a-4625-b6fa-d808e3ffcc52"
      },
      "execution_count": 1,
      "outputs": [
        {
          "output_type": "execute_result",
          "data": {
            "text/plain": [
              "array([[-0.79733021,  1.18005556, -0.35922661],\n",
              "       [-0.22568841, -1.59960253, -0.31937606],\n",
              "       [ 2.00919469,  1.43206159, -0.17651588],\n",
              "       [-1.13679414, -1.63050761, -1.59754078],\n",
              "       [ 0.23865702, -0.3732531 ,  0.22276472]])"
            ]
          },
          "metadata": {},
          "execution_count": 1
        }
      ]
    },
    {
      "cell_type": "code",
      "source": [
        "# 각 요소의 절대값\n",
        "np.abs(ar1)"
      ],
      "metadata": {
        "colab": {
          "base_uri": "https://localhost:8080/"
        },
        "id": "zjaK5KE9JAeL",
        "outputId": "ca3359ef-00f4-486e-db3f-cd5a176687f6"
      },
      "execution_count": 2,
      "outputs": [
        {
          "output_type": "execute_result",
          "data": {
            "text/plain": [
              "array([[0.79733021, 1.18005556, 0.35922661],\n",
              "       [0.22568841, 1.59960253, 0.31937606],\n",
              "       [2.00919469, 1.43206159, 0.17651588],\n",
              "       [1.13679414, 1.63050761, 1.59754078],\n",
              "       [0.23865702, 0.3732531 , 0.22276472]])"
            ]
          },
          "metadata": {},
          "execution_count": 2
        }
      ]
    },
    {
      "cell_type": "code",
      "source": [
        "# 각 요소의 제곱근 계산 ( == ar1 ** 0.5)\n",
        "np.sqrt(ar1)"
      ],
      "metadata": {
        "colab": {
          "base_uri": "https://localhost:8080/"
        },
        "id": "A_HXctCKJRFJ",
        "outputId": "52972c65-4973-4d28-aee0-0a64a6261b4e"
      },
      "execution_count": 3,
      "outputs": [
        {
          "output_type": "stream",
          "name": "stderr",
          "text": [
            "<ipython-input-3-a9f5646fce59>:2: RuntimeWarning: invalid value encountered in sqrt\n",
            "  np.sqrt(ar1)\n"
          ]
        },
        {
          "output_type": "execute_result",
          "data": {
            "text/plain": [
              "array([[       nan, 1.08630362,        nan],\n",
              "       [       nan,        nan,        nan],\n",
              "       [1.41746065, 1.19668776,        nan],\n",
              "       [       nan,        nan,        nan],\n",
              "       [0.48852535,        nan, 0.47197957]])"
            ]
          },
          "metadata": {},
          "execution_count": 3
        }
      ]
    },
    {
      "cell_type": "code",
      "source": [
        "# 각 요소의 제곱 계산\n",
        "np.square(ar1)"
      ],
      "metadata": {
        "colab": {
          "base_uri": "https://localhost:8080/"
        },
        "id": "k-fJCBxqJeO0",
        "outputId": "fb6747dc-1a7e-4e37-efa4-f3a42bbdc267"
      },
      "execution_count": 4,
      "outputs": [
        {
          "output_type": "execute_result",
          "data": {
            "text/plain": [
              "array([[0.63573547, 1.39253112, 0.12904376],\n",
              "       [0.05093526, 2.55872827, 0.10200107],\n",
              "       [4.0368633 , 2.0508004 , 0.03115786],\n",
              "       [1.29230091, 2.65855507, 2.55213653],\n",
              "       [0.05695717, 0.13931788, 0.04962412]])"
            ]
          },
          "metadata": {},
          "execution_count": 4
        }
      ]
    },
    {
      "cell_type": "code",
      "source": [
        "# 각 요소를 자연로그, 상용로그, 아래가 2인 로그를 씌운 값 계산\n",
        "print(np.log(ar1))\n",
        "print(np.log10(ar1))\n",
        "print(np.log2(ar1))"
      ],
      "metadata": {
        "colab": {
          "base_uri": "https://localhost:8080/"
        },
        "id": "4KPc3PZsJl6P",
        "outputId": "df10e842-ce5c-4dd3-de80-c4af8dca52d8"
      },
      "execution_count": 5,
      "outputs": [
        {
          "output_type": "stream",
          "name": "stdout",
          "text": [
            "[[        nan  0.16556152         nan]\n",
            " [        nan         nan         nan]\n",
            " [ 0.69773399  0.35911508         nan]\n",
            " [        nan         nan         nan]\n",
            " [-1.43272782         nan -1.50163914]]\n",
            "[[        nan  0.07190245         nan]\n",
            " [        nan         nan         nan]\n",
            " [ 0.30302202  0.1559617          nan]\n",
            " [        nan         nan         nan]\n",
            " [-0.62222578         nan -0.65215359]]\n",
            "[[        nan  0.23885478         nan]\n",
            " [        nan         nan         nan]\n",
            " [ 1.00661737  0.51809354         nan]\n",
            " [        nan         nan         nan]\n",
            " [-2.06698932         nan -2.16640734]]\n"
          ]
        },
        {
          "output_type": "stream",
          "name": "stderr",
          "text": [
            "<ipython-input-5-2efbfdc3f05d>:2: RuntimeWarning: invalid value encountered in log\n",
            "  print(np.log(ar1))\n",
            "<ipython-input-5-2efbfdc3f05d>:3: RuntimeWarning: invalid value encountered in log10\n",
            "  print(np.log10(ar1))\n",
            "<ipython-input-5-2efbfdc3f05d>:4: RuntimeWarning: invalid value encountered in log2\n",
            "  print(np.log2(ar1))\n"
          ]
        }
      ]
    },
    {
      "cell_type": "code",
      "source": [
        "# 각 요소의 부호 나타내기 (+ : 1, - : -1, 0 : 0)\n",
        "np.sign(ar1)"
      ],
      "metadata": {
        "colab": {
          "base_uri": "https://localhost:8080/"
        },
        "id": "-7dcvgK0J41J",
        "outputId": "0d4467c0-9c46-4740-c197-4e2a17028e9f"
      },
      "execution_count": 7,
      "outputs": [
        {
          "output_type": "execute_result",
          "data": {
            "text/plain": [
              "array([[-1.,  1., -1.],\n",
              "       [-1., -1., -1.],\n",
              "       [ 1.,  1., -1.],\n",
              "       [-1., -1., -1.],\n",
              "       [ 1., -1.,  1.]])"
            ]
          },
          "metadata": {},
          "execution_count": 7
        }
      ]
    },
    {
      "cell_type": "code",
      "source": [
        "# 각 요소의 소수 첫번째 자리에서 올림한 값 계산\n",
        "np.ceil(ar1)"
      ],
      "metadata": {
        "colab": {
          "base_uri": "https://localhost:8080/"
        },
        "id": "iboX_860KSWj",
        "outputId": "967ae57e-f84a-473e-d932-3896f9848e29"
      },
      "execution_count": 8,
      "outputs": [
        {
          "output_type": "execute_result",
          "data": {
            "text/plain": [
              "array([[-0.,  2., -0.],\n",
              "       [-0., -1., -0.],\n",
              "       [ 3.,  2., -0.],\n",
              "       [-1., -1., -1.],\n",
              "       [ 1., -0.,  1.]])"
            ]
          },
          "metadata": {},
          "execution_count": 8
        }
      ]
    },
    {
      "cell_type": "code",
      "source": [
        "# 각 요소의 소수 첫번째 자리에서 버림한 값 계산\n",
        "np.floor(ar1)"
      ],
      "metadata": {
        "colab": {
          "base_uri": "https://localhost:8080/"
        },
        "id": "J64xl6MGKf0P",
        "outputId": "f45423a3-03da-427c-9e49-31adf3fa92e7"
      },
      "execution_count": 9,
      "outputs": [
        {
          "output_type": "execute_result",
          "data": {
            "text/plain": [
              "array([[-1.,  1., -1.],\n",
              "       [-1., -2., -1.],\n",
              "       [ 2.,  1., -1.],\n",
              "       [-2., -2., -2.],\n",
              "       [ 0., -1.,  0.]])"
            ]
          },
          "metadata": {},
          "execution_count": 9
        }
      ]
    },
    {
      "cell_type": "code",
      "source": [
        "# 각 요소의 소수 첫번째 자리에서 올림한 값 계산\n",
        "np.round(ar1)"
      ],
      "metadata": {
        "colab": {
          "base_uri": "https://localhost:8080/"
        },
        "id": "nHVgXaayKm-r",
        "outputId": "3e4bd001-66c3-42c6-c5c8-6176178a62fc"
      },
      "execution_count": 10,
      "outputs": [
        {
          "output_type": "execute_result",
          "data": {
            "text/plain": [
              "array([[-1.,  1., -0.],\n",
              "       [-0., -2., -0.],\n",
              "       [ 2.,  1., -0.],\n",
              "       [-1., -2., -2.],\n",
              "       [ 0., -0.,  0.]])"
            ]
          },
          "metadata": {},
          "execution_count": 10
        }
      ]
    },
    {
      "cell_type": "code",
      "source": [
        "# 각 요소가 nan인 경우 True, 아닌 경우 False를 반환\n",
        "np.isnan(ar1)"
      ],
      "metadata": {
        "colab": {
          "base_uri": "https://localhost:8080/"
        },
        "id": "ai0Qzd4wKv-r",
        "outputId": "0a38af5b-15a9-4486-ba9a-60e30e8395da"
      },
      "execution_count": 11,
      "outputs": [
        {
          "output_type": "execute_result",
          "data": {
            "text/plain": [
              "array([[False, False, False],\n",
              "       [False, False, False],\n",
              "       [False, False, False],\n",
              "       [False, False, False],\n",
              "       [False, False, False]])"
            ]
          },
          "metadata": {},
          "execution_count": 11
        }
      ]
    },
    {
      "cell_type": "code",
      "source": [
        "# 각 요소가 무한대인 경우 True, 아닌 경우 False를 반환\n",
        "np.isinf(ar1)"
      ],
      "metadata": {
        "colab": {
          "base_uri": "https://localhost:8080/"
        },
        "id": "rIZXKijsK7RX",
        "outputId": "3e09834a-85de-4689-fd02-068365c8ace0"
      },
      "execution_count": 12,
      "outputs": [
        {
          "output_type": "execute_result",
          "data": {
            "text/plain": [
              "array([[False, False, False],\n",
              "       [False, False, False],\n",
              "       [False, False, False],\n",
              "       [False, False, False],\n",
              "       [False, False, False]])"
            ]
          },
          "metadata": {},
          "execution_count": 12
        }
      ]
    },
    {
      "cell_type": "code",
      "source": [
        "# 각 요소에 대해 삼각함수 값을 계산하기(cos, cosh, sin, sinh, tan, tanh)\n",
        "# ~h : 쌍곡선 함수\n",
        "# 쌍곡선 : 고정된 두 초점으로부터 거리가 일정한 점들에 의해 나타나는 곡선\n",
        "\n",
        "np.cos(ar1)\n",
        "np.cosh(ar1)\n",
        "np.sin(ar1)\n",
        "np.sinh(ar1)\n",
        "np.tan(ar1)\n",
        "np.tanh(ar1)"
      ],
      "metadata": {
        "colab": {
          "base_uri": "https://localhost:8080/"
        },
        "id": "MhhFxaeALElQ",
        "outputId": "89a6c8c7-2516-4702-af30-721af1aa5876"
      },
      "execution_count": 14,
      "outputs": [
        {
          "output_type": "execute_result",
          "data": {
            "text/plain": [
              "array([[-0.66254156,  0.82746913, -0.34453263],\n",
              "       [-0.22193307, -0.9216087 , -0.30894264],\n",
              "       [ 0.96467147,  0.89208831, -0.17470516],\n",
              "       [-0.81333176, -0.92613384, -0.92129753],\n",
              "       [ 0.23422685, -0.35683389,  0.21915159]])"
            ]
          },
          "metadata": {},
          "execution_count": 14
        }
      ]
    },
    {
      "cell_type": "markdown",
      "source": [
        "# 두 개의 array에 적용 (이항 유니버셜함수)"
      ],
      "metadata": {
        "id": "GLvelViOL8A0"
      }
    },
    {
      "cell_type": "code",
      "source": [
        "ar1"
      ],
      "metadata": {
        "colab": {
          "base_uri": "https://localhost:8080/"
        },
        "id": "ul4dQfQZMAr3",
        "outputId": "82a53461-d2c8-4b58-cd32-0270e1c3557e"
      },
      "execution_count": 15,
      "outputs": [
        {
          "output_type": "execute_result",
          "data": {
            "text/plain": [
              "array([[-0.79733021,  1.18005556, -0.35922661],\n",
              "       [-0.22568841, -1.59960253, -0.31937606],\n",
              "       [ 2.00919469,  1.43206159, -0.17651588],\n",
              "       [-1.13679414, -1.63050761, -1.59754078],\n",
              "       [ 0.23865702, -0.3732531 ,  0.22276472]])"
            ]
          },
          "metadata": {},
          "execution_count": 15
        }
      ]
    },
    {
      "cell_type": "code",
      "source": [
        "ar2 = np.random.randn(5, 3)\n",
        "ar2"
      ],
      "metadata": {
        "colab": {
          "base_uri": "https://localhost:8080/"
        },
        "id": "9qamXSjfMCPZ",
        "outputId": "e790a9b8-fff4-4284-cc4b-6f0831bc0861"
      },
      "execution_count": 16,
      "outputs": [
        {
          "output_type": "execute_result",
          "data": {
            "text/plain": [
              "array([[-0.27892244,  0.42354332, -0.65140143],\n",
              "       [ 1.91632922,  0.12653471,  1.1385513 ],\n",
              "       [ 0.037859  , -0.44509017, -1.37114179],\n",
              "       [-0.24078744, -0.151013  , -1.15209374],\n",
              "       [ 0.02494364,  2.37548873,  0.69168108]])"
            ]
          },
          "metadata": {},
          "execution_count": 16
        }
      ]
    },
    {
      "cell_type": "code",
      "source": [
        "# 두 개의 array에 대해 동일한 위치 요소끼리\n",
        "# 연산 값을 계산함수 (add, subtract, multiply, divide)\n",
        "np.multiply(ar1, ar2)\n",
        "np.subtract(ar1, ar2)\n",
        "np.add(ar1, ar2)\n",
        "np.divide(ar1, ar2)"
      ],
      "metadata": {
        "colab": {
          "base_uri": "https://localhost:8080/"
        },
        "id": "lYnLUrqdMEEi",
        "outputId": "f6301d7b-cea5-4efe-d29a-0b27e0b82cbd"
      },
      "execution_count": 17,
      "outputs": [
        {
          "output_type": "execute_result",
          "data": {
            "text/plain": [
              "array([[  2.85860908,   2.78615082,   0.55146735],\n",
              "       [ -0.11777121, -12.64161044,  -0.28051091],\n",
              "       [ 53.07045795,  -3.21746396,   0.12873642],\n",
              "       [  4.72115209,  10.79713384,   1.38664131],\n",
              "       [  9.5678521 ,  -0.15712687,   0.32206276]])"
            ]
          },
          "metadata": {},
          "execution_count": 17
        }
      ]
    },
    {
      "cell_type": "code",
      "source": [
        "# 두 개의 array에 대해 동일한 위치의 요소끼리 비교해서 최대값 or 최소값 계산\n",
        "# (maximum, minimum)\n",
        "np.maximum(ar1, ar2)\n",
        "np.minimum(ar1, ar2)"
      ],
      "metadata": {
        "colab": {
          "base_uri": "https://localhost:8080/"
        },
        "id": "KDRJi6mwMeQs",
        "outputId": "b050b4db-2c20-4e57-d739-6fff0ffc4981"
      },
      "execution_count": 18,
      "outputs": [
        {
          "output_type": "execute_result",
          "data": {
            "text/plain": [
              "array([[-0.79733021,  0.42354332, -0.65140143],\n",
              "       [-0.22568841, -1.59960253, -0.31937606],\n",
              "       [ 0.037859  , -0.44509017, -1.37114179],\n",
              "       [-1.13679414, -1.63050761, -1.59754078],\n",
              "       [ 0.02494364, -0.3732531 ,  0.22276472]])"
            ]
          },
          "metadata": {},
          "execution_count": 18
        }
      ]
    },
    {
      "cell_type": "markdown",
      "source": [
        "# 통계 함수\n",
        "\n",
        "통계 함수를 통해서 array의 합이나 평균 등을 구할 때\n",
        "\n",
        "추가로 'axis'라는 파라미터에 대한 값을 지정해서 열 또는 행의 합 또는 평균 등을 구할 수 있음!"
      ],
      "metadata": {
        "id": "bW-rHAjRM97r"
      }
    },
    {
      "cell_type": "code",
      "source": [
        "# 열 간의 합을 계산\n",
        "np.sum(ar1  , axis = 0)"
      ],
      "metadata": {
        "colab": {
          "base_uri": "https://localhost:8080/"
        },
        "id": "x76xqIfUNSLu",
        "outputId": "455c5fed-bb47-4663-de39-106f8d6d6a52"
      },
      "execution_count": 20,
      "outputs": [
        {
          "output_type": "execute_result",
          "data": {
            "text/plain": [
              "array([ 0.08803895, -0.9912461 , -2.22989461])"
            ]
          },
          "metadata": {},
          "execution_count": 20
        }
      ]
    },
    {
      "cell_type": "code",
      "source": [
        "# 행 간의 합을 계산\n",
        "np.sum(ar1, axis=1)"
      ],
      "metadata": {
        "colab": {
          "base_uri": "https://localhost:8080/"
        },
        "id": "zZ1Qblh6Nas2",
        "outputId": "42ad2de7-7a14-4f18-bc12-8f51fec5e1ab"
      },
      "execution_count": 21,
      "outputs": [
        {
          "output_type": "execute_result",
          "data": {
            "text/plain": [
              "array([ 0.02349873, -2.144667  ,  3.2647404 , -4.36484252,  0.08816863])"
            ]
          },
          "metadata": {},
          "execution_count": 21
        }
      ]
    },
    {
      "cell_type": "code",
      "source": [
        "# 전체 요소의 평균을 계산\n",
        "np.mean(ar1)"
      ],
      "metadata": {
        "colab": {
          "base_uri": "https://localhost:8080/"
        },
        "id": "MzF30k5XNqBw",
        "outputId": "351c43c5-5e7e-42cf-852c-4d6fe3ce5b57"
      },
      "execution_count": 22,
      "outputs": [
        {
          "output_type": "execute_result",
          "data": {
            "text/plain": [
              "-0.20887345075045827"
            ]
          },
          "metadata": {},
          "execution_count": 22
        }
      ]
    },
    {
      "cell_type": "code",
      "source": [
        "# 전체 요소의 표준편차, 분산, 최소값, 최대값(std, var, min, max)\n",
        "# 표준편차 : 데이터가 평균으로부터 얼마나 흩어있는지를 나타내는 지표\n",
        "# 분산 : 데이터가 평균으로부터 얼마나 멀리 떨어져있는지를 측정하는 지표\n",
        "np.std(ar1), np.var(ar1), np.min(ar1), np.max(ar1)"
      ],
      "metadata": {
        "colab": {
          "base_uri": "https://localhost:8080/"
        },
        "id": "WpXHxXyuN4sP",
        "outputId": "f5cc3927-e1fc-46e5-cfc0-ced0148d9ce5"
      },
      "execution_count": 24,
      "outputs": [
        {
          "output_type": "execute_result",
          "data": {
            "text/plain": [
              "(1.0671540467331828,\n",
              " 1.138817759459008,\n",
              " -1.6305076099595248,\n",
              " 2.0091946893701333)"
            ]
          },
          "metadata": {},
          "execution_count": 24
        }
      ]
    },
    {
      "cell_type": "code",
      "source": [
        "# 전체 요소의 최솟값, 최대값이 위치한 인덱스의 위치를 반환(argmin, argmax)\n",
        "np.argmin(ar1), np.argmax(ar1)"
      ],
      "metadata": {
        "colab": {
          "base_uri": "https://localhost:8080/"
        },
        "id": "kd9xnT_sOHp0",
        "outputId": "3a0d9341-d305-4025-972a-8dd25a36d43a"
      },
      "execution_count": 25,
      "outputs": [
        {
          "output_type": "execute_result",
          "data": {
            "text/plain": [
              "(10, 6)"
            ]
          },
          "metadata": {},
          "execution_count": 25
        }
      ]
    },
    {
      "cell_type": "code",
      "source": [
        "# 맨 처음 요소부터 각 요소까지의 누적합 or 누적곱을 계산(cumsum, cumprod)\n",
        "np.cumsum(ar1), np.cumprod(ar1)"
      ],
      "metadata": {
        "colab": {
          "base_uri": "https://localhost:8080/"
        },
        "id": "MdpQplsIOznX",
        "outputId": "d42f4a8a-e8d3-40d0-c87a-019fab347cc0"
      },
      "execution_count": 26,
      "outputs": [
        {
          "output_type": "execute_result",
          "data": {
            "text/plain": [
              "(array([-0.79733021,  0.38272535,  0.02349873, -0.20218968, -1.80179221,\n",
              "        -2.12116827, -0.11197358,  1.32008801,  1.14357213,  0.00677799,\n",
              "        -1.62372962, -3.2212704 , -2.98261337, -3.35586648, -3.13310176]),\n",
              " array([-0.79733021, -0.94089395,  0.33799415, -0.07628136,  0.12201986,\n",
              "        -0.03897022, -0.07829876, -0.11212865,  0.01979249, -0.02249998,\n",
              "         0.0366864 , -0.05860801, -0.01398721,  0.00522077,  0.001163  ]))"
            ]
          },
          "metadata": {},
          "execution_count": 26
        }
      ]
    },
    {
      "cell_type": "code",
      "source": [
        "# 사분위수 : 사분위수는 데이터를 4등분한 것\n",
        "# 25% : 1사분위수, 50% : 2사분위수(중앙값), 75% : 3사분위수\n",
        "np.quantile(ar1, [0.25, 0.5, 0.75])"
      ],
      "metadata": {
        "colab": {
          "base_uri": "https://localhost:8080/"
        },
        "id": "xpxUzdshO-oC",
        "outputId": "a7985605-388c-4127-aaa7-1f7042868a87"
      },
      "execution_count": 29,
      "outputs": [
        {
          "output_type": "execute_result",
          "data": {
            "text/plain": [
              "array([-0.96706217, -0.31937606,  0.23071087])"
            ]
          },
          "metadata": {},
          "execution_count": 29
        }
      ]
    },
    {
      "cell_type": "code",
      "source": [
        "# 전체 요소에 대해서 오름차순 정렬\n",
        "np.sort(ar1)"
      ],
      "metadata": {
        "colab": {
          "base_uri": "https://localhost:8080/"
        },
        "id": "41Qg8gxbPzWo",
        "outputId": "44863962-7d68-4f54-ce4c-b7bd35a9c1ee"
      },
      "execution_count": 30,
      "outputs": [
        {
          "output_type": "execute_result",
          "data": {
            "text/plain": [
              "array([[-0.79733021, -0.35922661,  1.18005556],\n",
              "       [-1.59960253, -0.31937606, -0.22568841],\n",
              "       [-0.17651588,  1.43206159,  2.00919469],\n",
              "       [-1.63050761, -1.59754078, -1.13679414],\n",
              "       [-0.3732531 ,  0.22276472,  0.23865702]])"
            ]
          },
          "metadata": {},
          "execution_count": 30
        }
      ]
    },
    {
      "cell_type": "code",
      "source": [
        "# 열 방향으로 오름차순 정렬\n",
        "np.sort(ar1, axis=0)"
      ],
      "metadata": {
        "colab": {
          "base_uri": "https://localhost:8080/"
        },
        "id": "xwpsesEXTx3Z",
        "outputId": "74c01ee5-0fe5-42f3-d56f-0caff2336e39"
      },
      "execution_count": 31,
      "outputs": [
        {
          "output_type": "execute_result",
          "data": {
            "text/plain": [
              "array([[-1.13679414, -1.63050761, -1.59754078],\n",
              "       [-0.79733021, -1.59960253, -0.35922661],\n",
              "       [-0.22568841, -0.3732531 , -0.31937606],\n",
              "       [ 0.23865702,  1.18005556, -0.17651588],\n",
              "       [ 2.00919469,  1.43206159,  0.22276472]])"
            ]
          },
          "metadata": {},
          "execution_count": 31
        }
      ]
    },
    {
      "cell_type": "code",
      "source": [
        "# zip 함수\n",
        "# 각 객체들을 파라미터로 받고, 그 요소들을 tuple의 형태로 반환\n",
        "numbers = [1, 2, 3]\n",
        "letters = ['A', 'B', 'C']\n",
        "for pair in zip(numbers, letters):\n",
        "    print(pair)"
      ],
      "metadata": {
        "colab": {
          "base_uri": "https://localhost:8080/"
        },
        "id": "9pBZfaAET1_d",
        "outputId": "8dd49d36-64b6-4699-93d0-7e72d486b320"
      },
      "execution_count": 32,
      "outputs": [
        {
          "output_type": "stream",
          "name": "stdout",
          "text": [
            "(1, 'A')\n",
            "(2, 'B')\n",
            "(3, 'C')\n"
          ]
        }
      ]
    },
    {
      "cell_type": "code",
      "source": [],
      "metadata": {
        "id": "Jjflf1yHUZS5"
      },
      "execution_count": null,
      "outputs": []
    }
  ]
}