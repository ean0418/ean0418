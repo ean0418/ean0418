{
  "nbformat": 4,
  "nbformat_minor": 0,
  "metadata": {
    "colab": {
      "provenance": [],
      "authorship_tag": "ABX9TyO7PNXjrIM+cZdSQaSIBxhA",
      "include_colab_link": true
    },
    "kernelspec": {
      "name": "python3",
      "display_name": "Python 3"
    },
    "language_info": {
      "name": "python"
    }
  },
  "cells": [
    {
      "cell_type": "markdown",
      "metadata": {
        "id": "view-in-github",
        "colab_type": "text"
      },
      "source": [
        "<a href=\"https://colab.research.google.com/github/ean0418/ean0418/blob/main/Jul30_2_Numpy.ipynb\" target=\"_parent\"><img src=\"https://colab.research.google.com/assets/colab-badge.svg\" alt=\"Open In Colab\"/></a>"
      ]
    },
    {
      "cell_type": "code",
      "execution_count": null,
      "metadata": {
        "id": "vAr5PYKXGBJE"
      },
      "outputs": [],
      "source": []
    },
    {
      "cell_type": "markdown",
      "source": [
        "Numpy (Numerical Python)\n",
        "C언어 기반 파이썬 라이브러리\n",
        "\n",
        "고성능의 수치계산 및 과학 계산을 위한 라이브러리\n",
        "\n",
        "수치 연산을 수행하는 선형 대수(Linear Algebra) 라이브러리\n",
        "List의 확장판 (데이터 연산, 통계 분석) 느낌\n",
        "\n",
        "다차원 배열을 처리하는데 필요한 여러 유용한 기능 제공 => 데이터 분석을 할 때 사용하는 라이브러리인 pandas와 matplotlib의 기반으로 사용되기도 함\n",
        "\n",
        "단순하게 [다차원 배열로 표현]한다 라고 이해하면\n",
        "\n",
        "모든 배열의 값이 기본적으로 같은 자료형이어야함\n",
        "\n",
        "Numpy에서는 각 차원(Dimesion)을 축(axis)으로 표현\n",
        "\n",
        "핵심적인 기능 : ndarray 객체\n",
        "\n",
        "ndarray객체는 동일한 자료형의 n-차원 배열을 모아주는 역할\n",
        "\n",
        "배열의 차원 : rank, 각 차원의 크기를 tuple로\n",
        "표시: shape\n",
        "\n",
        "ex) 2행 3열인 경우 : 2차원 배열에서 rank는 2\n",
        "shape는 (2,3)\n",
        "\n",
        "numpy배열을 생성하는 방법\n",
        "1. python list\n",
        "2. numpy 제공 함수"
      ],
      "metadata": {
        "id": "LOIaYaiQGCBJ"
      }
    },
    {
      "cell_type": "code",
      "source": [
        "import numpy as np"
      ],
      "metadata": {
        "id": "6gOKn2Z5GxEk"
      },
      "execution_count": null,
      "outputs": []
    },
    {
      "cell_type": "markdown",
      "source": [
        "list : 하나의 리스트 안에 숫자, 문자 섞여서 들어가는게 가능 O\n",
        "\n",
        "numpy : 항상 !!!! 같은 타입의 데이터들만 들어갈 수 있음"
      ],
      "metadata": {
        "id": "0pjYIHIiKJH1"
      }
    },
    {
      "cell_type": "markdown",
      "source": [
        "# Part 1. Numpy ndarray\n",
        "\n",
        "ndarray : 다차원의 배열 객체 / 파이썬에서 대규모 데이터 집합을 담을 수 있는 빠르고 유연한 자료구조\n",
        "\n",
        "용어정리 :\n",
        "\n",
        "- scalar : 상수값 (10, 3.141592, 'Korea')\n",
        "- vector (1차원) : [10, 20, 30]\n",
        "- metrix (2차원) : [[10, 20, 30], [100, 200, 300]] 2 x 3\n",
        "- 3차원 : [[[10, 20, 30], [100, 200, 300]], [[10, 20, 30], [100, 200, 300]]]\n",
        "2 x 2 x 3"
      ],
      "metadata": {
        "id": "36p_aGsjKeKh"
      }
    },
    {
      "cell_type": "code",
      "source": [
        "data1 =[1, 2, 3, 4, 5]\n",
        "data1"
      ],
      "metadata": {
        "colab": {
          "base_uri": "https://localhost:8080/"
        },
        "id": "JwQitXbAKpPb",
        "outputId": "55ca5395-2598-4629-c3ce-8966b0e24f43"
      },
      "execution_count": null,
      "outputs": [
        {
          "output_type": "execute_result",
          "data": {
            "text/plain": [
              "[1, 2, 3, 4, 5]"
            ]
          },
          "metadata": {},
          "execution_count": 2
        }
      ]
    },
    {
      "cell_type": "code",
      "source": [
        "data2=[1,2,3,3.5,4]\n",
        "data2"
      ],
      "metadata": {
        "colab": {
          "base_uri": "https://localhost:8080/"
        },
        "id": "ItPhrCJXMo_c",
        "outputId": "381f3e6f-3055-4a5b-963c-91163a48559e"
      },
      "execution_count": null,
      "outputs": [
        {
          "output_type": "execute_result",
          "data": {
            "text/plain": [
              "[1, 2, 3, 3.5, 4]"
            ]
          },
          "metadata": {},
          "execution_count": 4
        }
      ]
    },
    {
      "cell_type": "code",
      "source": [
        "# numpy를 이용해서 array 정의하기\n",
        "\n",
        "# 1. 위에서 만든 python list를 이용\n",
        "\n",
        "arr1 = np.array(data1)\n",
        "print(arr1)\n",
        "\n",
        "arr2 = np.array(data2)\n",
        "arr2"
      ],
      "metadata": {
        "colab": {
          "base_uri": "https://localhost:8080/"
        },
        "id": "_VVkWOSpM6aT",
        "outputId": "59904445-e67c-4413-842e-86122c493a62"
      },
      "execution_count": null,
      "outputs": [
        {
          "output_type": "stream",
          "name": "stdout",
          "text": [
            "[1 2 3 4 5]\n"
          ]
        },
        {
          "output_type": "execute_result",
          "data": {
            "text/plain": [
              "array([1. , 2. , 3. , 3.5, 4. ])"
            ]
          },
          "metadata": {},
          "execution_count": 6
        }
      ]
    },
    {
      "cell_type": "code",
      "source": [
        "# python list를 넣어서 만들기\n",
        "a = np.array([1,2,3])\n",
        "print(a, type(a))"
      ],
      "metadata": {
        "colab": {
          "base_uri": "https://localhost:8080/"
        },
        "id": "efOXb1mgNR9_",
        "outputId": "62121a02-3a8b-4b40-a5ee-fa20652cd8c2"
      },
      "execution_count": null,
      "outputs": [
        {
          "output_type": "stream",
          "name": "stdout",
          "text": [
            "[1 2 3] <class 'numpy.ndarray'>\n"
          ]
        }
      ]
    },
    {
      "cell_type": "code",
      "source": [
        "# ndarray 생성방법 2\n",
        "arr3 = np.arange(1, 11) # 1 ~ (11 - 1)까지\n",
        "arr3"
      ],
      "metadata": {
        "colab": {
          "base_uri": "https://localhost:8080/"
        },
        "id": "xyBZ_YZHNdb9",
        "outputId": "d401d8a2-b944-4983-de34-d739fca9c5f4"
      },
      "execution_count": null,
      "outputs": [
        {
          "output_type": "execute_result",
          "data": {
            "text/plain": [
              "array([ 1,  2,  3,  4,  5,  6,  7,  8,  9, 10])"
            ]
          },
          "metadata": {},
          "execution_count": 10
        }
      ]
    },
    {
      "cell_type": "code",
      "source": [
        "# ndarray 생성방법 3\n",
        "\n",
        "arr4 = np.random.randint(1, 11, size = 5) # 1 ~ 10까지의 숫자를 랜덤하게 5개 뽑기\n",
        "arr4"
      ],
      "metadata": {
        "colab": {
          "base_uri": "https://localhost:8080/"
        },
        "id": "XC7UUleZNvYj",
        "outputId": "1bc2240b-3f16-4c24-a37b-409ede01585b"
      },
      "execution_count": null,
      "outputs": [
        {
          "output_type": "execute_result",
          "data": {
            "text/plain": [
              "array([ 8, 10, 10, 10,  3])"
            ]
          },
          "metadata": {},
          "execution_count": 12
        }
      ]
    },
    {
      "cell_type": "markdown",
      "source": [
        "# np.random 관련 함수\n",
        "\n",
        "- np.random.rand()\n",
        "- np.random.randint()\n",
        "- np.random.randn()\n",
        "- np.random.choice()"
      ],
      "metadata": {
        "id": "riR51im9OH2x"
      }
    },
    {
      "cell_type": "code",
      "source": [
        "np.random.rand(5) # 0 ~ 1 사이의 랜덤한 실수값 반환 (5개)"
      ],
      "metadata": {
        "colab": {
          "base_uri": "https://localhost:8080/"
        },
        "id": "-2thsxsSOWnV",
        "outputId": "7dce13b1-0abb-4094-b25a-f04e2a3142d4"
      },
      "execution_count": null,
      "outputs": [
        {
          "output_type": "execute_result",
          "data": {
            "text/plain": [
              "array([0.51764616, 0.76385067, 0.1135693 , 0.0321796 , 0.67959373])"
            ]
          },
          "metadata": {},
          "execution_count": 13
        }
      ]
    },
    {
      "cell_type": "code",
      "source": [
        "np.random.rand(5)*10 # 값을 넓게 하려면 곱해주면 됨~"
      ],
      "metadata": {
        "colab": {
          "base_uri": "https://localhost:8080/"
        },
        "id": "2Gqzihb3Ohx7",
        "outputId": "46915024-332f-46d9-fd46-77f4dd2842c2"
      },
      "execution_count": null,
      "outputs": [
        {
          "output_type": "execute_result",
          "data": {
            "text/plain": [
              "array([5.47522555, 5.5449755 , 9.4192746 , 4.97104621, 3.63411276])"
            ]
          },
          "metadata": {},
          "execution_count": 14
        }
      ]
    },
    {
      "cell_type": "code",
      "source": [
        "np.random.randint(10) # 0 ~ (10-1) 까지 중 랜덤한 정수값 반환"
      ],
      "metadata": {
        "colab": {
          "base_uri": "https://localhost:8080/"
        },
        "id": "9tUtZXhNOyKn",
        "outputId": "0606f299-9f8a-41f7-8354-0a602fa7b4a4"
      },
      "execution_count": null,
      "outputs": [
        {
          "output_type": "execute_result",
          "data": {
            "text/plain": [
              "9"
            ]
          },
          "metadata": {},
          "execution_count": 15
        }
      ]
    },
    {
      "cell_type": "code",
      "source": [
        "np.random.randn(5) # 표준 정규분포 값 5개를 반환 (평균 0, 편차 1)"
      ],
      "metadata": {
        "colab": {
          "base_uri": "https://localhost:8080/"
        },
        "id": "1VH6r8Q2PA6c",
        "outputId": "9e61be1a-941c-4940-eeda-035358ca397c"
      },
      "execution_count": null,
      "outputs": [
        {
          "output_type": "execute_result",
          "data": {
            "text/plain": [
              "array([-0.13562337, -1.02451074,  1.40479912, -0.05582888, -0.91222844])"
            ]
          },
          "metadata": {},
          "execution_count": 17
        }
      ]
    },
    {
      "cell_type": "code",
      "source": [
        "np.random.choice([1, 2, 3, 4, 5]) # 배열 안의 값 중 랜덤한거 하나 뽑아서 반환"
      ],
      "metadata": {
        "colab": {
          "base_uri": "https://localhost:8080/"
        },
        "id": "soSC4yqaPY16",
        "outputId": "ae0462a7-1038-4064-eda5-c1fae1a0288a"
      },
      "execution_count": null,
      "outputs": [
        {
          "output_type": "execute_result",
          "data": {
            "text/plain": [
              "3"
            ]
          },
          "metadata": {},
          "execution_count": 19
        }
      ]
    },
    {
      "cell_type": "code",
      "source": [
        "# List와 비교\n",
        "l = [1, 2, 3]\n",
        "a = np.array([1, 2, 3])\n",
        "print(l)\n",
        "print(a)"
      ],
      "metadata": {
        "colab": {
          "base_uri": "https://localhost:8080/"
        },
        "id": "GVsMv82DPmIF",
        "outputId": "9a5a8f8d-6a94-4653-9462-eaa44f6582fb"
      },
      "execution_count": null,
      "outputs": [
        {
          "output_type": "stream",
          "name": "stdout",
          "text": [
            "[1, 2, 3]\n",
            "[1 2 3]\n"
          ]
        }
      ]
    },
    {
      "cell_type": "code",
      "source": [
        "# numpy 반복문\n",
        "for i in a:\n",
        "    print(i)"
      ],
      "metadata": {
        "colab": {
          "base_uri": "https://localhost:8080/"
        },
        "id": "_RltIn2oQQ12",
        "outputId": "a4f49dc8-e126-4f89-9c50-70215426fd2b"
      },
      "execution_count": null,
      "outputs": [
        {
          "output_type": "stream",
          "name": "stdout",
          "text": [
            "1\n",
            "2\n",
            "3\n"
          ]
        }
      ]
    },
    {
      "cell_type": "code",
      "source": [
        "# list에서 append\n",
        "l.append(4) # 뒤에 숫자 4가 포함\n",
        "print(l)\n",
        "\n",
        "# numpy에서의 append >> list의 방법으로는 불가능!!!"
      ],
      "metadata": {
        "colab": {
          "base_uri": "https://localhost:8080/"
        },
        "id": "kzcGz1CHQY1G",
        "outputId": "cccda9c9-725e-4ae2-c969-27d995741c20"
      },
      "execution_count": null,
      "outputs": [
        {
          "output_type": "stream",
          "name": "stdout",
          "text": [
            "[1, 2, 3, 4, 4, 4]\n"
          ]
        }
      ]
    },
    {
      "cell_type": "code",
      "source": [
        "# numpy에서의 append >> np.append으로 대상 배열을 콕 찝어서 !!!\n",
        "a = np.append(a, 4)\n",
        "print(a)"
      ],
      "metadata": {
        "colab": {
          "base_uri": "https://localhost:8080/"
        },
        "id": "9565VLk4QuF2",
        "outputId": "6dfe6373-0c94-4acf-caaf-ce4ca1f833eb"
      },
      "execution_count": null,
      "outputs": [
        {
          "output_type": "stream",
          "name": "stdout",
          "text": [
            "[1 2 3 4]\n"
          ]
        }
      ]
    },
    {
      "cell_type": "code",
      "source": [
        "# list에서의 덧셈 >>\n",
        "l = l + [5]\n",
        "print(l)"
      ],
      "metadata": {
        "colab": {
          "base_uri": "https://localhost:8080/"
        },
        "id": "5uS-C8p3RIWM",
        "outputId": "7950fde2-3eba-40f1-a22b-037cd6f3f81e"
      },
      "execution_count": null,
      "outputs": [
        {
          "output_type": "stream",
          "name": "stdout",
          "text": [
            "[1, 2, 3, 4, 4, 4, 5, 5]\n"
          ]
        }
      ]
    },
    {
      "cell_type": "code",
      "source": [
        "# numpy에서의 덧셈 >> 각각의 요소에 + 5\n",
        "a = a + np.array([5])\n",
        "print(a)"
      ],
      "metadata": {
        "colab": {
          "base_uri": "https://localhost:8080/"
        },
        "id": "j8VQyeKnRexo",
        "outputId": "5f7f4b15-c65c-486e-9f08-13e78085a50c"
      },
      "execution_count": null,
      "outputs": [
        {
          "output_type": "stream",
          "name": "stdout",
          "text": [
            "[11 12 13 14]\n"
          ]
        }
      ]
    },
    {
      "cell_type": "code",
      "source": [
        "# list의 모든 요소를 2배로 만들기\n",
        "ㅣ = [1, 2, 3]\n",
        "ㅣ2 = []\n",
        "for i in l:\n",
        "    ㅣ2.append(i*2)\n",
        "print(ㅣ2)"
      ],
      "metadata": {
        "colab": {
          "base_uri": "https://localhost:8080/"
        },
        "id": "ngbiWOolSCUq",
        "outputId": "0c99aef5-8f52-4238-e40c-dd317f47b903"
      },
      "execution_count": null,
      "outputs": [
        {
          "output_type": "stream",
          "name": "stdout",
          "text": [
            "[2, 4, 6, 8, 8, 8, 10, 10]\n"
          ]
        }
      ]
    },
    {
      "cell_type": "code",
      "source": [
        "l = l * 2\n",
        "print(l)"
      ],
      "metadata": {
        "colab": {
          "base_uri": "https://localhost:8080/"
        },
        "id": "46qDR1FqSPnv",
        "outputId": "59f9aa92-7861-48af-b39c-2560a20d3813"
      },
      "execution_count": null,
      "outputs": [
        {
          "output_type": "stream",
          "name": "stdout",
          "text": [
            "[1, 2, 3, 4, 4, 4, 5, 5, 1, 2, 3, 4, 4, 4, 5, 5]\n"
          ]
        }
      ]
    },
    {
      "cell_type": "code",
      "source": [
        "# ndarray의 모든 요소를 2배로 만들기\n",
        "a = np.array(l)\n",
        "a = a * 2\n",
        "print(a)\n",
        "\n",
        "#Numpy에서는 산술 연산 O"
      ],
      "metadata": {
        "colab": {
          "base_uri": "https://localhost:8080/"
        },
        "id": "l8zEmO4cSejl",
        "outputId": "b8116256-353a-4496-cddb-2ef0bfb782fe"
      },
      "execution_count": null,
      "outputs": [
        {
          "output_type": "stream",
          "name": "stdout",
          "text": [
            "[ 2  4  6  8  8  8 10 10  2  4  6  8  8  8 10 10]\n"
          ]
        }
      ]
    },
    {
      "cell_type": "markdown",
      "source": [
        "# Part2. 배열\n",
        "\n",
        "Numpy의 배열은 모두 같은 자료형을 갖는 값이고, 음수가 아닌 정수의 튜플로 인덱싱\n",
        "\n",
        "배열의 shape는 각 차원별 배열 크기의 tuple\n",
        "\n",
        "중첩된 파이썬 리스트로부터 numpy 배열을 초기화할 수 있고, 대괄호를 사용해서 요소로 접근 가능o\n",
        "\n"
      ],
      "metadata": {
        "id": "vHdHOLNnX24k"
      }
    },
    {
      "cell_type": "code",
      "source": [
        "ex = [[1, 2, 3], [4, 5, 6], [7, 8, 9]]\n",
        "print(ex) # list 속에 list\n",
        "print(np.array(ex))\n",
        "exx = np.array(ex)\n",
        "exx.shape # shape로 확인함으로써 몇 개의 데이터가 있는지, 몇 차원으로 존재하는지 알 수 있음"
      ],
      "metadata": {
        "colab": {
          "base_uri": "https://localhost:8080/"
        },
        "id": "dOqmP9D6YdJc",
        "outputId": "c1c732a1-7821-4058-9ddf-81fbe20df273"
      },
      "execution_count": null,
      "outputs": [
        {
          "output_type": "stream",
          "name": "stdout",
          "text": [
            "[[1, 2, 3], [4, 5, 6], [7, 8, 9]]\n",
            "[[1 2 3]\n",
            " [4 5 6]\n",
            " [7 8 9]]\n"
          ]
        },
        {
          "output_type": "execute_result",
          "data": {
            "text/plain": [
              "(3, 3)"
            ]
          },
          "metadata": {},
          "execution_count": 36
        }
      ]
    },
    {
      "cell_type": "code",
      "source": [
        "a = np.array([1, 2, 3])\n",
        "print(a)\n",
        "print(type(a), a.ndim, a.shape, a.dtype)\n",
        "\n",
        "# type : 자료형\n",
        "# ndim : 몇 차원인지\n",
        "# shape : 튜플 형식이기 때문에, (1차원이라서) => 뒤에가 비어있고 (3,)형태로 출력\n",
        "# dtype : 배열 요소의 자료형 int64=> long이라고 생각하면.."
      ],
      "metadata": {
        "colab": {
          "base_uri": "https://localhost:8080/"
        },
        "id": "Nd2WzisIYmAn",
        "outputId": "dac7b230-be4c-4a65-94a5-cdad56b37309"
      },
      "execution_count": null,
      "outputs": [
        {
          "output_type": "stream",
          "name": "stdout",
          "text": [
            "[1 2 3]\n",
            "<class 'numpy.ndarray'> 1 (3,) int64\n"
          ]
        }
      ]
    },
    {
      "cell_type": "markdown",
      "source": [
        "# Array 연산\n",
        "\n",
        "기본적으로 numpy에서 연산을 하는 경우\n",
        "\n",
        "서로 크기가 같은 array끼리 연산을 진행\n",
        "\n",
        "+ 같은 위치에 있는 요소들끼리 연산을 진행"
      ],
      "metadata": {
        "id": "Qk4akD7Ma-Jl"
      }
    },
    {
      "cell_type": "code",
      "source": [
        "arr1 = np.array([[1, 2, 3], [4, 5, 6]])\n",
        "\n",
        "arr1\n"
      ],
      "metadata": {
        "colab": {
          "base_uri": "https://localhost:8080/"
        },
        "id": "jmmQFQT5bRRX",
        "outputId": "04f3189d-4576-4fdd-89f9-e1b470ba52a5"
      },
      "execution_count": null,
      "outputs": [
        {
          "output_type": "execute_result",
          "data": {
            "text/plain": [
              "array([[1, 2, 3],\n",
              "       [4, 5, 6]])"
            ]
          },
          "metadata": {},
          "execution_count": 39
        }
      ]
    },
    {
      "cell_type": "code",
      "source": [
        "arr2 = np.array([[10, 11, 12], [13, 14, 15]])\n",
        "arr2"
      ],
      "metadata": {
        "colab": {
          "base_uri": "https://localhost:8080/"
        },
        "id": "Sq8l2XtSbY6v",
        "outputId": "01d63a02-5c56-4719-94cf-65d3dd242ce6"
      },
      "execution_count": null,
      "outputs": [
        {
          "output_type": "execute_result",
          "data": {
            "text/plain": [
              "array([[10, 11, 12],\n",
              "       [13, 14, 15]])"
            ]
          },
          "metadata": {},
          "execution_count": 40
        }
      ]
    },
    {
      "cell_type": "code",
      "source": [
        "print(arr1.shape, arr2.shape)"
      ],
      "metadata": {
        "colab": {
          "base_uri": "https://localhost:8080/"
        },
        "id": "ttw6py6zbeTA",
        "outputId": "f9527281-54dc-4406-a2d6-1d3f767a6656"
      },
      "execution_count": null,
      "outputs": [
        {
          "output_type": "stream",
          "name": "stdout",
          "text": [
            "(2, 3) (2, 3)\n"
          ]
        }
      ]
    },
    {
      "cell_type": "code",
      "source": [
        "# arr1, arr2 사칙연산\n",
        "\n",
        "# 덧셈\n",
        "# 뺄셈\n",
        "# 곱셈\n",
        "# 나눗셈\n",
        "\n",
        "print(arr1 + arr2)\n",
        "print(arr1 - arr2)\n",
        "print(arr1 * arr2)\n",
        "print(arr1 / arr2)\n"
      ],
      "metadata": {
        "colab": {
          "base_uri": "https://localhost:8080/"
        },
        "id": "KZevuZvGbncI",
        "outputId": "58f54141-6c49-4bad-c467-91b53c1c5488"
      },
      "execution_count": null,
      "outputs": [
        {
          "output_type": "stream",
          "name": "stdout",
          "text": [
            "[[11 13 15]\n",
            " [17 19 21]]\n",
            "[[-9 -9 -9]\n",
            " [-9 -9 -9]]\n",
            "[[10 22 36]\n",
            " [52 70 90]]\n",
            "[[0.1        0.18181818 0.25      ]\n",
            " [0.30769231 0.35714286 0.4       ]]\n"
          ]
        }
      ]
    },
    {
      "cell_type": "markdown",
      "source": [
        "# Array BroadCasting\n",
        "\n",
        "브로드캐스팅(BroadCasting)은 모양이 다른 배열들간의 연산이 어떠한 조건이 갖춰졌을때(만족했을 때) 가능해지도록 배열을 자동적으로 변환하는 것\n",
        "\n",
        "- 요소가 하나인 배열인 경우는 어떤 배열과 브로드캐스팅이 가능\n",
        "- 하나의 배열이 1차원 배열인 경우 브로드캐스팅이 가능\n",
        "- (각 배열들이 다차원일 경우) 차원의 짝이 맞을 때, 브로드캐스팅이 가능\n",
        "\n",
        "=> 서로 크기가 다른 array들의 연산이 가능해졌다!"
      ],
      "metadata": {
        "id": "wOUTpCgfdfkx"
      }
    },
    {
      "cell_type": "code",
      "source": [
        "arr1"
      ],
      "metadata": {
        "colab": {
          "base_uri": "https://localhost:8080/"
        },
        "id": "G0fBjdLUemk6",
        "outputId": "5962c0b0-cfe9-4210-e125-e2e6926b6454"
      },
      "execution_count": 45,
      "outputs": [
        {
          "output_type": "execute_result",
          "data": {
            "text/plain": [
              "array([[1, 2, 3],\n",
              "       [4, 5, 6]])"
            ]
          },
          "metadata": {},
          "execution_count": 45
        }
      ]
    },
    {
      "cell_type": "code",
      "source": [
        "arr3 = np.array([7, 8, 9])\n",
        "arr3"
      ],
      "metadata": {
        "colab": {
          "base_uri": "https://localhost:8080/"
        },
        "id": "5X_vACyLenoh",
        "outputId": "93b665d4-e9f6-461a-de78-64660b5ecf7d"
      },
      "execution_count": 46,
      "outputs": [
        {
          "output_type": "execute_result",
          "data": {
            "text/plain": [
              "array([7, 8, 9])"
            ]
          },
          "metadata": {},
          "execution_count": 46
        }
      ]
    },
    {
      "cell_type": "code",
      "source": [
        "print(arr1.shape, arr3.shape)"
      ],
      "metadata": {
        "colab": {
          "base_uri": "https://localhost:8080/"
        },
        "id": "F2jJVR_Xer31",
        "outputId": "2366a784-2af7-4c44-c927-d8e2f127ec26"
      },
      "execution_count": 47,
      "outputs": [
        {
          "output_type": "stream",
          "name": "stdout",
          "text": [
            "(2, 3) (3,)\n"
          ]
        }
      ]
    },
    {
      "cell_type": "code",
      "source": [
        "# arr1, arr3 사칙연산\n",
        "\n",
        "print(arr1 + arr3)\n",
        "print(arr1 - arr3)\n",
        "print(arr1 * arr3)\n",
        "print(arr1 / arr3)\n",
        "\n",
        "# arr3의 array([7, 8, 9]) 가\n",
        "# 어떤 조건에 만족해서\n",
        "# [(7, 8, 9)], [(7, 8, 9)]로 확장이 되어서 계산이 가능!"
      ],
      "metadata": {
        "colab": {
          "base_uri": "https://localhost:8080/"
        },
        "id": "ny1JQmZje3wF",
        "outputId": "1fabfa1b-c810-404a-fb9d-a914a2d1f90b"
      },
      "execution_count": 50,
      "outputs": [
        {
          "output_type": "stream",
          "name": "stdout",
          "text": [
            "[[ 8 10 12]\n",
            " [11 13 15]]\n",
            "[[-6 -6 -6]\n",
            " [-3 -3 -3]]\n",
            "[[ 7 16 27]\n",
            " [28 40 54]]\n",
            "[[0.14285714 0.25       0.33333333]\n",
            " [0.57142857 0.625      0.66666667]]\n"
          ]
        }
      ]
    },
    {
      "cell_type": "code",
      "source": [
        "# 스칼라(Scalar) 연산\n",
        "# 스칼라는 방향은 없지만, 실수 공간에서 크기만 나타내는 값\n",
        "# 실수 전체집합에 속하는 값\n",
        "arr1 * 10"
      ],
      "metadata": {
        "colab": {
          "base_uri": "https://localhost:8080/"
        },
        "id": "6aR_n0Nze9-x",
        "outputId": "0c31f747-7f65-413c-9c5c-fb5026920432"
      },
      "execution_count": 51,
      "outputs": [
        {
          "output_type": "execute_result",
          "data": {
            "text/plain": [
              "array([[10, 20, 30],\n",
              "       [40, 50, 60]])"
            ]
          },
          "metadata": {},
          "execution_count": 51
        }
      ]
    },
    {
      "cell_type": "code",
      "source": [
        "# np.array() vs np.asarray()\n",
        "a = np.array([9, 2, 3])\n",
        "b = np.asarray(a)\n",
        "print(a)\n",
        "print(b)"
      ],
      "metadata": {
        "colab": {
          "base_uri": "https://localhost:8080/"
        },
        "id": "jkTmWCLCgpsm",
        "outputId": "8ed84ff9-43cf-4211-ce0e-354d6768e623"
      },
      "execution_count": 56,
      "outputs": [
        {
          "output_type": "stream",
          "name": "stdout",
          "text": [
            "[9 2 3]\n",
            "[9 2 3]\n"
          ]
        }
      ]
    },
    {
      "cell_type": "code",
      "source": [
        "c = np.array(a)\n",
        "print(c)"
      ],
      "metadata": {
        "colab": {
          "base_uri": "https://localhost:8080/"
        },
        "id": "dgWxQdMPl68d",
        "outputId": "b77b0ab0-2689-4207-9ced-5339051da271"
      },
      "execution_count": 57,
      "outputs": [
        {
          "output_type": "stream",
          "name": "stdout",
          "text": [
            "[9 2 3]\n"
          ]
        }
      ]
    },
    {
      "cell_type": "code",
      "source": [
        "c[0] = 1\n",
        "print(a)\n",
        "print(b)\n",
        "print(c)\n",
        "\n",
        "# asarray()는 사본이 없는 개념(수정내용 공유), array()는 사본이 있는 개념"
      ],
      "metadata": {
        "colab": {
          "base_uri": "https://localhost:8080/"
        },
        "id": "9bdKufl9mKNb",
        "outputId": "411edacd-ed81-405d-b630-634860b88ef7"
      },
      "execution_count": 58,
      "outputs": [
        {
          "output_type": "stream",
          "name": "stdout",
          "text": [
            "[9 2 3]\n",
            "[9 2 3]\n",
            "[1 2 3]\n"
          ]
        }
      ]
    },
    {
      "cell_type": "code",
      "source": [
        "# np.zeros() 함수는 파라미터로 받는 크기만큼, 모든 요소의 값이 0인 array를 생성\n",
        "a = np.zeros(3)\n",
        "print(a)\n",
        "aa = np.zeros((3,4))\n",
        "print(aa)"
      ],
      "metadata": {
        "colab": {
          "base_uri": "https://localhost:8080/"
        },
        "id": "XNEuv492mbOw",
        "outputId": "3b525709-28c1-4b35-fcdb-443e02dcf267"
      },
      "execution_count": 60,
      "outputs": [
        {
          "output_type": "stream",
          "name": "stdout",
          "text": [
            "[0. 0. 0.]\n",
            "[[0. 0. 0. 0.]\n",
            " [0. 0. 0. 0.]\n",
            " [0. 0. 0. 0.]]\n"
          ]
        }
      ]
    },
    {
      "cell_type": "code",
      "source": [
        "# np.ones() 함수는 파라미터로 받는 크기만큼, 모든 요소의 값이 1인 array를 생성\n",
        "b = np.ones(5)\n",
        "print(b)\n",
        "bb = np.ones((5,2))\n",
        "print(bb)"
      ],
      "metadata": {
        "colab": {
          "base_uri": "https://localhost:8080/"
        },
        "id": "Xb14e9ZjnMby",
        "outputId": "357934f4-34c5-4b12-971d-1c3599c0b861"
      },
      "execution_count": 61,
      "outputs": [
        {
          "output_type": "stream",
          "name": "stdout",
          "text": [
            "[1. 1. 1. 1. 1.]\n",
            "[[1. 1.]\n",
            " [1. 1.]\n",
            " [1. 1.]\n",
            " [1. 1.]\n",
            " [1. 1.]]\n"
          ]
        }
      ]
    },
    {
      "cell_type": "code",
      "source": [
        "# np.full()\n",
        "c = np.full((2, 3), 10)\n",
        "print(c)\n"
      ],
      "metadata": {
        "colab": {
          "base_uri": "https://localhost:8080/"
        },
        "id": "QGRBon1lnnK5",
        "outputId": "e0d02d8e-63c3-44cc-c874-707559434109"
      },
      "execution_count": 62,
      "outputs": [
        {
          "output_type": "stream",
          "name": "stdout",
          "text": [
            "[[10 10 10]\n",
            " [10 10 10]]\n"
          ]
        }
      ]
    },
    {
      "cell_type": "code",
      "source": [
        "# 대각행렬, 단위행렬 : 대각선이 1인 행렬 생성, 나머지는 0\n",
        "# .eye() : 정사각 or 직사각 단위행렬\n",
        "# (k 값으로 대각선의 위치 이동 가능/ 양-우측/음-좌측이동)\n",
        "# .identity() : 정사각 단위행렬\n",
        "\n",
        "i = np.eye(3, 5, k =-1)\n",
        "j = np.identity(5)\n",
        "print(i)\n",
        "print()\n",
        "print(j)"
      ],
      "metadata": {
        "colab": {
          "base_uri": "https://localhost:8080/"
        },
        "id": "1gbReQwdn0zy",
        "outputId": "3f3e7bd3-ecce-49ab-eac3-77414a0e79d7"
      },
      "execution_count": 67,
      "outputs": [
        {
          "output_type": "stream",
          "name": "stdout",
          "text": [
            "[[0. 0. 0. 0. 0.]\n",
            " [1. 0. 0. 0. 0.]\n",
            " [0. 1. 0. 0. 0.]]\n",
            "\n",
            "[[1. 0. 0. 0. 0.]\n",
            " [0. 1. 0. 0. 0.]\n",
            " [0. 0. 1. 0. 0.]\n",
            " [0. 0. 0. 1. 0.]\n",
            " [0. 0. 0. 0. 1.]]\n"
          ]
        }
      ]
    },
    {
      "cell_type": "code",
      "source": [
        "# seed를 지정해주지 않으면, 매번 다른 난수가 나타남\n",
        "np.random.seed(3)\n",
        "np.random.rand(4)"
      ],
      "metadata": {
        "colab": {
          "base_uri": "https://localhost:8080/"
        },
        "id": "mctD2I49onD8",
        "outputId": "959cd3f8-877b-48a5-c8bb-b21a72e05317"
      },
      "execution_count": 68,
      "outputs": [
        {
          "output_type": "execute_result",
          "data": {
            "text/plain": [
              "array([0.5507979 , 0.70814782, 0.29090474, 0.51082761])"
            ]
          },
          "metadata": {},
          "execution_count": 68
        }
      ]
    },
    {
      "cell_type": "code",
      "source": [
        "import matplotlib.pyplot as plt"
      ],
      "metadata": {
        "id": "zHXPaRRCpdp-"
      },
      "execution_count": 69,
      "outputs": []
    },
    {
      "cell_type": "code",
      "source": [
        "plt.style.available # matplotlib 테마 종류\n"
      ],
      "metadata": {
        "colab": {
          "base_uri": "https://localhost:8080/"
        },
        "id": "m5iGY2q8pnjI",
        "outputId": "075d5af5-40f3-436e-e6a6-085458fead80"
      },
      "execution_count": 70,
      "outputs": [
        {
          "output_type": "execute_result",
          "data": {
            "text/plain": [
              "['Solarize_Light2',\n",
              " '_classic_test_patch',\n",
              " '_mpl-gallery',\n",
              " '_mpl-gallery-nogrid',\n",
              " 'bmh',\n",
              " 'classic',\n",
              " 'dark_background',\n",
              " 'fast',\n",
              " 'fivethirtyeight',\n",
              " 'ggplot',\n",
              " 'grayscale',\n",
              " 'seaborn-v0_8',\n",
              " 'seaborn-v0_8-bright',\n",
              " 'seaborn-v0_8-colorblind',\n",
              " 'seaborn-v0_8-dark',\n",
              " 'seaborn-v0_8-dark-palette',\n",
              " 'seaborn-v0_8-darkgrid',\n",
              " 'seaborn-v0_8-deep',\n",
              " 'seaborn-v0_8-muted',\n",
              " 'seaborn-v0_8-notebook',\n",
              " 'seaborn-v0_8-paper',\n",
              " 'seaborn-v0_8-pastel',\n",
              " 'seaborn-v0_8-poster',\n",
              " 'seaborn-v0_8-talk',\n",
              " 'seaborn-v0_8-ticks',\n",
              " 'seaborn-v0_8-white',\n",
              " 'seaborn-v0_8-whitegrid',\n",
              " 'tableau-colorblind10']"
            ]
          },
          "metadata": {},
          "execution_count": 70
        }
      ]
    },
    {
      "cell_type": "code",
      "source": [
        "# numpy + matplotlib\n",
        "\n",
        "np.random.seed(0)\n",
        "\n",
        "# theme 바꾸기\n",
        "plt.style.use('default')\n",
        "\n",
        "# matplotlib 설정\n",
        "# 그래프의 기본크기(가로, 세로) 인치\n",
        "plt.rcParams['figure.figsize'] = (6,3)\n",
        "plt.rcParams['font.size']= 10\n",
        "# lines.linewidth : 선 두께\n",
        "# line.color : 선 색깔\n",
        "# axes.grid : 그래프 내 격자선 표시 여부\n",
        "\n",
        "# 샘플 데이터\n",
        "a = np.random.rand(1000)\n",
        "b = np.random.rand(10000)\n",
        "c = np.random.rand(100000)\n",
        "\n",
        "# hist : 도수분포표(히스토그램)\n",
        "# 자료의 분표를 몇 개의 구간으로 나누고, 나누어진 각 구간에 속하는 자료가 몇 개인지 정리한 표\n",
        "\n",
        "# bins : 히스토그램의 가로축 구간의 갯수\n",
        "# density = True : 각 구간의 빈도(밀도)\n",
        "# alpha : 투명도(0.0 ~ 1.0)\n",
        "# histtype : 종류 지정(bar, barstacked, step, stepfilled)\n",
        "\n",
        "plt.hist(a, bins=100, density=True, alpha=0.5, histtype='stepfilled', label='n=1000')\n",
        "plt.hist(b, bins=100, density=True, alpha=0.75, histtype='step', label='n=10000')\n",
        "plt.hist(c, bins=100, density=True, alpha=1.0, histtype='step', label='n=100000')\n",
        "\n",
        "plt.ylim(0, 2)\n",
        "plt.legend()\n",
        "plt.show()\n",
        "\n",
        "# 샘플의 갯수가 증가할수록, 더욱 균일한 분포를 보임\n"
      ],
      "metadata": {
        "colab": {
          "base_uri": "https://localhost:8080/",
          "height": 297
        },
        "id": "6oH2tzgWpsrr",
        "outputId": "a74c2311-d16e-44a1-9f0e-124ebb7aff0f"
      },
      "execution_count": 75,
      "outputs": [
        {
          "output_type": "display_data",
          "data": {
            "text/plain": [
              "<Figure size 600x300 with 1 Axes>"
            ],
            "image/png": "[encoded data removed]"
          },
          "metadata": {}
        }
      ]
    },
    {
      "cell_type": "code",
      "source": [
        "# 배열의 dtype(data type)\n",
        "\n",
        "a = np.array([1, 2, 3])\n",
        "b = np.array([1, 2, 3], dtype=np.float64)\n",
        "c = np.array([1, 2, 3], dtype=np.int32)\n",
        "\n",
        "print(a.dtype, b.dtype, c.dtype)\n",
        "\n",
        "# 뒤에 숫자 : ex) int64 => 정수로 표현.... 2^64만큼의 범위만큼(음수, 양수)"
      ],
      "metadata": {
        "colab": {
          "base_uri": "https://localhost:8080/"
        },
        "id": "omn-gSBDp-AS",
        "outputId": "a7c31119-3bbb-478e-91a8-0a5a33062bbd"
      },
      "execution_count": 77,
      "outputs": [
        {
          "output_type": "stream",
          "name": "stdout",
          "text": [
            "int64 float64 int32\n"
          ]
        }
      ]
    },
    {
      "cell_type": "code",
      "source": [
        "d = np.array([1,2,3], dtype='i1')\n",
        "e = np.array([1,2,3], dtype='i2')\n",
        "f = np.array([1,2,3], dtype='i4')\n",
        "g = np.array([1,2,3], dtype='i8')\n",
        "\n",
        "print(d.dtype, e.dtype, f.dtype, g.dtype)"
      ],
      "metadata": {
        "colab": {
          "base_uri": "https://localhost:8080/"
        },
        "id": "QCyCGEJWEVBN",
        "outputId": "c151df29-7c87-4dae-9351-bae6c707c787"
      },
      "execution_count": 78,
      "outputs": [
        {
          "output_type": "stream",
          "name": "stdout",
          "text": [
            "int8 int16 int32 int64\n"
          ]
        }
      ]
    },
    {
      "cell_type": "code",
      "source": [
        "h = np.array([1,2,3], dtype='u1')\n",
        "i = np.array([1,2,3], dtype='u2')\n",
        "j = np.array([1,2,3], dtype='u4')\n",
        "k = np.array([1,2,3], dtype='u8')\n",
        "\n",
        "print(h.dtype, i.dtype, j.dtype, k.dtype)\n",
        "# 양수만 표현이 가능"
      ],
      "metadata": {
        "colab": {
          "base_uri": "https://localhost:8080/"
        },
        "id": "gZe085BXEkBL",
        "outputId": "d8a7b95a-6712-471a-e486-7cb5806fc9df"
      },
      "execution_count": 83,
      "outputs": [
        {
          "output_type": "stream",
          "name": "stdout",
          "text": [
            "uint8 uint16 uint32 uint64\n"
          ]
        }
      ]
    },
    {
      "cell_type": "code",
      "source": [
        "l = np.array([1,2,3], dtype='f2')\n",
        "m = np.array([1,2,3], dtype='f4')\n",
        "n = np.array([1,2,3], dtype='f8')\n",
        "\n",
        "print(l.dtype, m.dtype, n.dtype)"
      ],
      "metadata": {
        "colab": {
          "base_uri": "https://localhost:8080/"
        },
        "id": "W95wV2jyE1Pi",
        "outputId": "0624f7b9-e739-4abd-8102-1c9f9b845da0"
      },
      "execution_count": 85,
      "outputs": [
        {
          "output_type": "stream",
          "name": "stdout",
          "text": [
            "float16 float32 float64\n"
          ]
        }
      ]
    },
    {
      "cell_type": "code",
      "source": [
        "o = np.array([1,2,3], dtype=\"f\")\n",
        "p = np.array([1,2,3], dtype=\"d\")\n",
        "q = np.array([1,2,3], dtype=\"g\")\n",
        "\n",
        "print(l.dtype, o.dtype, p.dtype, q.dtype)\n",
        "\n",
        "# 형 변환\n",
        "o = o.astype(np.int32)\n",
        "print(o.dtype)"
      ],
      "metadata": {
        "colab": {
          "base_uri": "https://localhost:8080/"
        },
        "id": "8asJG_-lFfPW",
        "outputId": "b58c4454-63c9-41c5-afea-878173f88dc3"
      },
      "execution_count": 87,
      "outputs": [
        {
          "output_type": "stream",
          "name": "stdout",
          "text": [
            "float16 float32 float64 float128\n",
            "int32\n"
          ]
        }
      ]
    },
    {
      "cell_type": "code",
      "source": [],
      "metadata": {
        "id": "mwEwmG2VHzpq"
      },
      "execution_count": null,
      "outputs": []
    },
    {
      "cell_type": "code",
      "source": [
        "ex = [[1,2,3], [4,5,6],[7,8,9]]\n",
        "ex1 = np.array(ex)\n",
        "print(dir(ex1)) # 사용할 수 있는 함수들의 목록을 보여줌\n",
        "\n",
        "print(np.nan) # nan : 평균같은거 구하고 싶을 때 제외하고 싶은 것을 nan으로 표시"
      ],
      "metadata": {
        "colab": {
          "base_uri": "https://localhost:8080/"
        },
        "id": "0Hk7kjmDGDYM",
        "outputId": "6ae7f8e5-456b-48fe-b469-b69a4b5680d1"
      },
      "execution_count": 88,
      "outputs": [
        {
          "output_type": "stream",
          "name": "stdout",
          "text": [
            "['T', '__abs__', '__add__', '__and__', '__array__', '__array_finalize__', '__array_function__', '__array_interface__', '__array_prepare__', '__array_priority__', '__array_struct__', '__array_ufunc__', '__array_wrap__', '__bool__', '__class__', '__class_getitem__', '__complex__', '__contains__', '__copy__', '__deepcopy__', '__delattr__', '__delitem__', '__dir__', '__divmod__', '__dlpack__', '__dlpack_device__', '__doc__', '__eq__', '__float__', '__floordiv__', '__format__', '__ge__', '__getattribute__', '__getitem__', '__gt__', '__hash__', '__iadd__', '__iand__', '__ifloordiv__', '__ilshift__', '__imatmul__', '__imod__', '__imul__', '__index__', '__init__', '__init_subclass__', '__int__', '__invert__', '__ior__', '__ipow__', '__irshift__', '__isub__', '__iter__', '__itruediv__', '__ixor__', '__le__', '__len__', '__lshift__', '__lt__', '__matmul__', '__mod__', '__mul__', '__ne__', '__neg__', '__new__', '__or__', '__pos__', '__pow__', '__radd__', '__rand__', '__rdivmod__', '__reduce__', '__reduce_ex__', '__repr__', '__rfloordiv__', '__rlshift__', '__rmatmul__', '__rmod__', '__rmul__', '__ror__', '__rpow__', '__rrshift__', '__rshift__', '__rsub__', '__rtruediv__', '__rxor__', '__setattr__', '__setitem__', '__setstate__', '__sizeof__', '__str__', '__sub__', '__subclasshook__', '__truediv__', '__xor__', 'all', 'any', 'argmax', 'argmin', 'argpartition', 'argsort', 'astype', 'base', 'byteswap', 'choose', 'clip', 'compress', 'conj', 'conjugate', 'copy', 'ctypes', 'cumprod', 'cumsum', 'data', 'diagonal', 'dot', 'dtype', 'dump', 'dumps', 'fill', 'flags', 'flat', 'flatten', 'getfield', 'imag', 'item', 'itemset', 'itemsize', 'max', 'mean', 'min', 'nbytes', 'ndim', 'newbyteorder', 'nonzero', 'partition', 'prod', 'ptp', 'put', 'ravel', 'real', 'repeat', 'reshape', 'resize', 'round', 'searchsorted', 'setfield', 'setflags', 'shape', 'size', 'sort', 'squeeze', 'std', 'strides', 'sum', 'swapaxes', 'take', 'tobytes', 'tofile', 'tolist', 'tostring', 'trace', 'transpose', 'var', 'view']\n"
          ]
        }
      ]
    },
    {
      "cell_type": "code",
      "source": [
        "b[0] = np.nan\n",
        "print(b)\n",
        "\n",
        "c = np.arange(1, 10).reshape(3,3)\n",
        "c[1][1] = np.nan # ValueError: cannot convert float NaN to integer/ nan은 float만 가능\n",
        "print(c)"
      ],
      "metadata": {
        "colab": {
          "base_uri": "https://localhost:8080/",
          "height": 221
        },
        "id": "4pxld2WzGq7M",
        "outputId": "24f036ee-b6e8-406d-9c6b-ea2d5a4accc5"
      },
      "execution_count": 92,
      "outputs": [
        {
          "output_type": "stream",
          "name": "stdout",
          "text": [
            "[nan  2.  3.]\n"
          ]
        },
        {
          "output_type": "error",
          "ename": "ValueError",
          "evalue": "cannot convert float NaN to integer",
          "traceback": [
            "\u001b[0;31m---------------------------------------------------------------------------\u001b[0m",
            "\u001b[0;31mValueError\u001b[0m                                Traceback (most recent call last)",
            "\u001b[0;32m<ipython-input-92-5f46974636fc>\u001b[0m in \u001b[0;36m<cell line: 5>\u001b[0;34m()\u001b[0m\n\u001b[1;32m      3\u001b[0m \u001b[0;34m\u001b[0m\u001b[0m\n\u001b[1;32m      4\u001b[0m \u001b[0mc\u001b[0m \u001b[0;34m=\u001b[0m \u001b[0mnp\u001b[0m\u001b[0;34m.\u001b[0m\u001b[0marange\u001b[0m\u001b[0;34m(\u001b[0m\u001b[0;36m1\u001b[0m\u001b[0;34m,\u001b[0m \u001b[0;36m10\u001b[0m\u001b[0;34m)\u001b[0m\u001b[0;34m.\u001b[0m\u001b[0mreshape\u001b[0m\u001b[0;34m(\u001b[0m\u001b[0;36m3\u001b[0m\u001b[0;34m,\u001b[0m\u001b[0;36m3\u001b[0m\u001b[0;34m)\u001b[0m\u001b[0;34m\u001b[0m\u001b[0;34m\u001b[0m\u001b[0m\n\u001b[0;32m----> 5\u001b[0;31m \u001b[0mc\u001b[0m\u001b[0;34m[\u001b[0m\u001b[0;36m1\u001b[0m\u001b[0;34m]\u001b[0m\u001b[0;34m[\u001b[0m\u001b[0;36m1\u001b[0m\u001b[0;34m]\u001b[0m \u001b[0;34m=\u001b[0m \u001b[0mnp\u001b[0m\u001b[0;34m.\u001b[0m\u001b[0mnan\u001b[0m \u001b[0;31m# ValueError: cannot convert float NaN to integer/ nan은 float만 가능\u001b[0m\u001b[0;34m\u001b[0m\u001b[0;34m\u001b[0m\u001b[0m\n\u001b[0m\u001b[1;32m      6\u001b[0m \u001b[0mprint\u001b[0m\u001b[0;34m(\u001b[0m\u001b[0mc\u001b[0m\u001b[0;34m)\u001b[0m\u001b[0;34m\u001b[0m\u001b[0;34m\u001b[0m\u001b[0m\n",
            "\u001b[0;31mValueError\u001b[0m: cannot convert float NaN to integer"
          ]
        }
      ]
    },
    {
      "cell_type": "markdown",
      "source": [
        "# Part3. 배열 indexing(색인)과 slicing(슬라이싱)\n",
        "\n"
      ],
      "metadata": {
        "id": "S_drnrG_H8ZS"
      }
    },
    {
      "cell_type": "code",
      "source": [
        "a = np.arange(10)\n",
        "print(a)\n"
      ],
      "metadata": {
        "colab": {
          "base_uri": "https://localhost:8080/"
        },
        "id": "QQz5W_HsIETX",
        "outputId": "c734dfb7-79a1-4ebd-f5cd-4d7918e4d9c5"
      },
      "execution_count": 93,
      "outputs": [
        {
          "output_type": "stream",
          "name": "stdout",
          "text": [
            "[0 1 2 3 4 5 6 7 8 9]\n"
          ]
        }
      ]
    },
    {
      "cell_type": "code",
      "source": [
        "# indexing : 특정한 index번호에 접근해서 그 값을 가져오는 작업\n",
        "# a에서 5값 출력\n",
        "print(a[5])"
      ],
      "metadata": {
        "colab": {
          "base_uri": "https://localhost:8080/"
        },
        "id": "Bix-Gt5VIJ5A",
        "outputId": "d371bfdc-5eef-4cc5-e6b5-57ea095267c8"
      },
      "execution_count": 94,
      "outputs": [
        {
          "output_type": "stream",
          "name": "stdout",
          "text": [
            "5\n"
          ]
        }
      ]
    },
    {
      "cell_type": "code",
      "source": [
        "# np.arange() 함수는 파라미터로 받는 값만큼 1씩 증가하는 1차원의 array를 만듬\n",
        "# 이 때 하나의 파라미터만 입력하면 0 ~ (입력받은 - 1)만큼의 크기를 가짐\n",
        "\n",
        "# 두 개의 파라미터를 넣으면 시작값 ~ (끝 값 - 1)만큼의 크기를 가짐\n",
        "\n",
        "kk = np.arange(3, 10)\n",
        "kk"
      ],
      "metadata": {
        "colab": {
          "base_uri": "https://localhost:8080/"
        },
        "id": "0dKbRTxLIffq",
        "outputId": "817dc730-0aa4-4b33-aa58-614e0ac3ea4a"
      },
      "execution_count": 95,
      "outputs": [
        {
          "output_type": "execute_result",
          "data": {
            "text/plain": [
              "array([3, 4, 5, 6, 7, 8, 9])"
            ]
          },
          "metadata": {},
          "execution_count": 95
        }
      ]
    },
    {
      "cell_type": "code",
      "source": [
        "# slicing : 연속적인 객체(배열, 리스트)에 부여된 번호를 이용해서 그 일부를 추출하는 작업\n",
        "print(a)\n",
        "# a에서 5,6,7 값 출력\n",
        "print(a[5:8])\n",
        "\n",
        "# 맨 뒤에 있는 요소의 값\n",
        "print(a[-1])\n",
        "\n",
        "# 시작부터 7번째까지 2개씩 건너서 출력\n",
        "print(a[0:8:2])\n",
        "print(a[:8:2]) # 안넣으면 맨앞부터\n"
      ],
      "metadata": {
        "colab": {
          "base_uri": "https://localhost:8080/"
        },
        "id": "0gBaVFROJKmS",
        "outputId": "f18b11cb-51f8-4c7c-e3f2-5f839236b51f"
      },
      "execution_count": 100,
      "outputs": [
        {
          "output_type": "stream",
          "name": "stdout",
          "text": [
            "[0 1 2 3 4 5 6 7 8 9]\n",
            "[5 6 7]\n",
            "9\n",
            "[0 2 4 6]\n",
            "[0 2 4 6]\n"
          ]
        }
      ]
    },
    {
      "cell_type": "code",
      "source": [
        "ex = [[1, 2, 3], [4, 5, 6], [7, 8, 9]]\n",
        "ex1 = np.array(ex)\n",
        "\n",
        "# 콤마를 이용해서 slicing\n",
        "\n",
        "# 1행에 대한 값만 추출\n",
        "print(ex1[1, :])\n",
        "\n",
        "# 1열에 대한 값만 추출\n",
        "print(ex1[:, 1])"
      ],
      "metadata": {
        "colab": {
          "base_uri": "https://localhost:8080/"
        },
        "id": "sBii390FJgZo",
        "outputId": "3c03af29-9011-45f4-e277-cfc035c5b303"
      },
      "execution_count": 101,
      "outputs": [
        {
          "output_type": "stream",
          "name": "stdout",
          "text": [
            "[4 5 6]\n",
            "[2 5 8]\n"
          ]
        }
      ]
    },
    {
      "cell_type": "markdown",
      "source": [
        "# indexing 과 slicing의 차이\n",
        "\n",
        "indexing을 사용하면 항상 랭크(차원) 감소\n",
        "\n",
        "slicing을 사용하면 랭크(차원) 유지\n",
        "\n"
      ],
      "metadata": {
        "id": "GoPn6d7HPcKX"
      }
    },
    {
      "cell_type": "code",
      "source": [
        "# 몇 차원인가...? 중괄호의 갯수로 파악하면!\n",
        "b = np.arange(1, 13).reshape(3, 4)\n",
        "print(b)\n",
        "print(b.ndim)"
      ],
      "metadata": {
        "colab": {
          "base_uri": "https://localhost:8080/"
        },
        "id": "Tx5jhCfTP2Ex",
        "outputId": "305fd8d5-92ab-4ac3-b934-b43e503ec10c"
      },
      "execution_count": 102,
      "outputs": [
        {
          "output_type": "stream",
          "name": "stdout",
          "text": [
            "[[ 1  2  3  4]\n",
            " [ 5  6  7  8]\n",
            " [ 9 10 11 12]]\n",
            "2\n"
          ]
        }
      ]
    },
    {
      "cell_type": "code",
      "source": [
        "indexing = b[1]\n",
        "slicing = b[1:2]\n",
        "print(indexing, indexing.shape, indexing.ndim)\n",
        "print(slicing, slicing.shape, slicing.ndim)"
      ],
      "metadata": {
        "colab": {
          "base_uri": "https://localhost:8080/"
        },
        "id": "qZZg0YffP-vi",
        "outputId": "b082b69b-0201-491c-e342-8f6b719bc478"
      },
      "execution_count": 103,
      "outputs": [
        {
          "output_type": "stream",
          "name": "stdout",
          "text": [
            "[5 6 7 8] (4,) 1\n",
            "[[5 6 7 8]] (1, 4) 2\n"
          ]
        }
      ]
    },
    {
      "cell_type": "code",
      "source": [
        "# array 수정\n",
        "\n",
        "arr = np.array([11, 22, 33, 44, 55])\n",
        "print(arr)\n",
        "\n",
        "# 0번째 인덱스에 있는 값을 10으로 변경\n",
        "arr[0] = 10\n",
        "print(arr)\n",
        "\n",
        "# 1, 2 번째 인덱스에 있는 값을 222, 333 으로 변경\n",
        "arr[1:3] = [222, 333]\n",
        "print(arr)\n",
        "# 3, 4 번째 인덱스에 있는 값에 2를 더하기\n",
        "arr[3:5] += 2\n",
        "print(arr)"
      ],
      "metadata": {
        "colab": {
          "base_uri": "https://localhost:8080/"
        },
        "id": "jV6Nzx6aQhOQ",
        "outputId": "1f256cab-bce3-4cab-fda0-c64d5e635d58"
      },
      "execution_count": 114,
      "outputs": [
        {
          "output_type": "stream",
          "name": "stdout",
          "text": [
            "[11 22 33 44 55]\n",
            "[10 22 33 44 55]\n",
            "[ 10 222 333  44  55]\n",
            "[ 10 222 333  46  57]\n"
          ]
        }
      ]
    },
    {
      "cell_type": "code",
      "source": [
        "arr = np.array([110, 222, 337, 420, 155, 987, 200, 53, 178])\n",
        "print(arr)\n",
        "\n",
        "# arr에서 200보다 큰 요소들에 대해서 기존 값에 2를 더한 값으로 수정\n",
        "\n",
        "arr[arr > 200] += 2\n",
        "print(arr)"
      ],
      "metadata": {
        "colab": {
          "base_uri": "https://localhost:8080/"
        },
        "id": "aoQhbIS4Q6Yi",
        "outputId": "03dd3a1e-08ab-425c-f6df-a052e2a4dcf9"
      },
      "execution_count": 115,
      "outputs": [
        {
          "output_type": "stream",
          "name": "stdout",
          "text": [
            "[110 222 337 420 155 987 200  53 178]\n",
            "[110 224 339 422 155 989 200  53 178]\n"
          ]
        }
      ]
    },
    {
      "cell_type": "code",
      "source": [
        "# array 삭제\n",
        "\n",
        "arr = np.array([110, 222, 337, 420, 155, 987, 200, 53, 178])\n",
        "print(arr)\n",
        "\n",
        "# 0번째, 2번째 인덱스에 있는 값 삭제\n",
        "# np.delete(array, index)\n",
        "arr = np.delete(arr, [0, 2])\n",
        "print(arr)"
      ],
      "metadata": {
        "colab": {
          "base_uri": "https://localhost:8080/"
        },
        "id": "uy33ytb5TbVY",
        "outputId": "b5c69209-c518-450c-f393-27c1df210f71"
      },
      "execution_count": 116,
      "outputs": [
        {
          "output_type": "stream",
          "name": "stdout",
          "text": [
            "[110 222 337 420 155 987 200  53 178]\n",
            "[222 420 155 987 200  53 178]\n"
          ]
        }
      ]
    },
    {
      "cell_type": "code",
      "source": [
        "# array 인덱스 추출\n",
        "# np.where(조건)\n",
        "\n",
        "# arr의 각 요소의 값이 100보다 작은 index 추출\n",
        "np.where(arr < 100)\n"
      ],
      "metadata": {
        "colab": {
          "base_uri": "https://localhost:8080/"
        },
        "id": "4MaBpQcCVlEz",
        "outputId": "b34402fa-2878-468c-83d2-19222b77ac24"
      },
      "execution_count": 118,
      "outputs": [
        {
          "output_type": "execute_result",
          "data": {
            "text/plain": [
              "(array([5]),)"
            ]
          },
          "metadata": {},
          "execution_count": 118
        }
      ]
    },
    {
      "cell_type": "code",
      "source": [
        "arr = np.array([11, 130, 370, 114, 55, 94, 200, 30, 190, 187])\n",
        "\n",
        "# np.where의 기능을 살펴보고,\n",
        "# arr의 각 요소의 값이 100이상이면 'A',아니면 'B'를 출력\n",
        "np.where(arr >= 100, 'A', 'B')\n"
      ],
      "metadata": {
        "colab": {
          "base_uri": "https://localhost:8080/"
        },
        "id": "okiJHjrVWBH8",
        "outputId": "b3cfda66-b28f-4e4b-c8b3-a421dbba2219"
      },
      "execution_count": 120,
      "outputs": [
        {
          "output_type": "execute_result",
          "data": {
            "text/plain": [
              "array(['B', 'A', 'A', 'A', 'B', 'B', 'A', 'B', 'A', 'A'], dtype='<U1')"
            ]
          },
          "metadata": {},
          "execution_count": 120
        }
      ]
    },
    {
      "cell_type": "code",
      "source": [],
      "metadata": {
        "id": "kB2tFbBOWTDk"
      },
      "execution_count": null,
      "outputs": []
    }
  ]
}